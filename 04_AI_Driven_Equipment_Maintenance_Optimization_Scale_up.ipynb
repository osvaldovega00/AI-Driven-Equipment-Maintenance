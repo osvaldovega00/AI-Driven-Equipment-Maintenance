{
  "nbformat": 4,
  "nbformat_minor": 0,
  "metadata": {
    "colab": {
      "provenance": [],
      "gpuType": "T4"
    },
    "kernelspec": {
      "name": "python3",
      "display_name": "Python 3"
    },
    "language_info": {
      "name": "python"
    },
    "accelerator": "GPU",
    "widgets": {
      "application/vnd.jupyter.widget-state+json": {
        "bb84746215f344438e13aac4e089f738": {
          "model_module": "@jupyter-widgets/controls",
          "model_name": "DropdownModel",
          "model_module_version": "1.5.0",
          "state": {
            "_dom_classes": [],
            "_model_module": "@jupyter-widgets/controls",
            "_model_module_version": "1.5.0",
            "_model_name": "DropdownModel",
            "_options_labels": [
              "Select motor type",
              "H",
              "L",
              "M"
            ],
            "_view_count": null,
            "_view_module": "@jupyter-widgets/controls",
            "_view_module_version": "1.5.0",
            "_view_name": "DropdownView",
            "description": "Type:",
            "description_tooltip": null,
            "disabled": true,
            "index": 3,
            "layout": "IPY_MODEL_2f39fb9cc54042558e3d40bf23c5d582",
            "style": "IPY_MODEL_0b53e5dbc1514b7bb679491a2c314c04"
          }
        },
        "2f39fb9cc54042558e3d40bf23c5d582": {
          "model_module": "@jupyter-widgets/base",
          "model_name": "LayoutModel",
          "model_module_version": "1.2.0",
          "state": {
            "_model_module": "@jupyter-widgets/base",
            "_model_module_version": "1.2.0",
            "_model_name": "LayoutModel",
            "_view_count": null,
            "_view_module": "@jupyter-widgets/base",
            "_view_module_version": "1.2.0",
            "_view_name": "LayoutView",
            "align_content": null,
            "align_items": null,
            "align_self": null,
            "border": null,
            "bottom": null,
            "display": null,
            "flex": null,
            "flex_flow": null,
            "grid_area": null,
            "grid_auto_columns": null,
            "grid_auto_flow": null,
            "grid_auto_rows": null,
            "grid_column": null,
            "grid_gap": null,
            "grid_row": null,
            "grid_template_areas": null,
            "grid_template_columns": null,
            "grid_template_rows": null,
            "height": null,
            "justify_content": null,
            "justify_items": null,
            "left": null,
            "margin": null,
            "max_height": null,
            "max_width": null,
            "min_height": null,
            "min_width": null,
            "object_fit": null,
            "object_position": null,
            "order": null,
            "overflow": null,
            "overflow_x": null,
            "overflow_y": null,
            "padding": null,
            "right": null,
            "top": null,
            "visibility": null,
            "width": null
          }
        },
        "0b53e5dbc1514b7bb679491a2c314c04": {
          "model_module": "@jupyter-widgets/controls",
          "model_name": "DescriptionStyleModel",
          "model_module_version": "1.5.0",
          "state": {
            "_model_module": "@jupyter-widgets/controls",
            "_model_module_version": "1.5.0",
            "_model_name": "DescriptionStyleModel",
            "_view_count": null,
            "_view_module": "@jupyter-widgets/base",
            "_view_module_version": "1.2.0",
            "_view_name": "StyleView",
            "description_width": ""
          }
        }
      }
    }
  },
  "cells": [
    {
      "cell_type": "markdown",
      "source": [
        "# AI-Driven Equipment Maintenance - Optimization and Scale-up\n",
        "\n",
        "**Purpose:** To optimize the selected model in the previous sections, using hyperparameter tunning, feature importance and/or other tecniques to ensure this prototype is able to handle a real-world version of the final application.\n",
        "\n",
        "**Hyperparameter Tuning:** is the AI&ML process of optimizing the settings that govern how a model learns. Unlike model parameters, which are learned during training, hyperparameters are predefined before training begins and directly impact the performance of the model.\n",
        "\n",
        "**Feature Importance:** tells us which input variables (features) have the biggest impact on a machine learning model's predictions.\n",
        "\n",
        "**Class Imbalance:** happens when one class in your dataset has many more samples than another."
      ],
      "metadata": {
        "id": "QFKZFb7CFU12"
      }
    },
    {
      "cell_type": "markdown",
      "source": [
        "Install and import H2O"
      ],
      "metadata": {
        "id": "MvZ4dnx1FNx7"
      }
    },
    {
      "cell_type": "code",
      "source": [
        "!pip install h2o"
      ],
      "metadata": {
        "colab": {
          "base_uri": "https://localhost:8080/"
        },
        "collapsed": true,
        "id": "_pflqD1IEIHd",
        "outputId": "aeeda818-0f1b-4ee8-dafe-5696adc8ce24"
      },
      "execution_count": 1,
      "outputs": [
        {
          "output_type": "stream",
          "name": "stdout",
          "text": [
            "Collecting h2o\n",
            "  Downloading h2o-3.46.0.7-py2.py3-none-any.whl.metadata (2.1 kB)\n",
            "Requirement already satisfied: requests in /usr/local/lib/python3.11/dist-packages (from h2o) (2.32.3)\n",
            "Requirement already satisfied: tabulate in /usr/local/lib/python3.11/dist-packages (from h2o) (0.9.0)\n",
            "Requirement already satisfied: charset-normalizer<4,>=2 in /usr/local/lib/python3.11/dist-packages (from requests->h2o) (3.4.1)\n",
            "Requirement already satisfied: idna<4,>=2.5 in /usr/local/lib/python3.11/dist-packages (from requests->h2o) (3.10)\n",
            "Requirement already satisfied: urllib3<3,>=1.21.1 in /usr/local/lib/python3.11/dist-packages (from requests->h2o) (2.4.0)\n",
            "Requirement already satisfied: certifi>=2017.4.17 in /usr/local/lib/python3.11/dist-packages (from requests->h2o) (2025.4.26)\n",
            "Downloading h2o-3.46.0.7-py2.py3-none-any.whl (265.9 MB)\n",
            "\u001b[2K   \u001b[90m━━━━━━━━━━━━━━━━━━━━━━━━━━━━━━━━━━━━━━━━\u001b[0m \u001b[32m265.9/265.9 MB\u001b[0m \u001b[31m5.2 MB/s\u001b[0m eta \u001b[36m0:00:00\u001b[0m\n",
            "\u001b[?25hInstalling collected packages: h2o\n",
            "Successfully installed h2o-3.46.0.7\n"
          ]
        }
      ]
    },
    {
      "cell_type": "code",
      "source": [
        "import h2o\n",
        "from h2o.automl import H2OAutoML\n",
        "h2o.init()\n",
        "from google.colab import drive\n",
        "import pandas as pd\n",
        "from ipywidgets import widgets\n",
        "from IPython.display import display"
      ],
      "metadata": {
        "id": "iawC0n-KfdjQ",
        "colab": {
          "base_uri": "https://localhost:8080/",
          "height": 544
        },
        "collapsed": true,
        "outputId": "2658da6b-3273-4457-be65-5bfd89fd587b"
      },
      "execution_count": 2,
      "outputs": [
        {
          "output_type": "stream",
          "name": "stdout",
          "text": [
            "Checking whether there is an H2O instance running at http://localhost:54321..... not found.\n",
            "Attempting to start a local H2O server...\n",
            "  Java Version: openjdk version \"11.0.26\" 2025-01-21; OpenJDK Runtime Environment (build 11.0.26+4-post-Ubuntu-1ubuntu122.04); OpenJDK 64-Bit Server VM (build 11.0.26+4-post-Ubuntu-1ubuntu122.04, mixed mode, sharing)\n",
            "  Starting server from /usr/local/lib/python3.11/dist-packages/h2o/backend/bin/h2o.jar\n",
            "  Ice root: /tmp/tmpus31nna8\n",
            "  JVM stdout: /tmp/tmpus31nna8/h2o_unknownUser_started_from_python.out\n",
            "  JVM stderr: /tmp/tmpus31nna8/h2o_unknownUser_started_from_python.err\n",
            "  Server is running at http://127.0.0.1:54321\n",
            "Connecting to H2O server at http://127.0.0.1:54321 ... successful.\n"
          ]
        },
        {
          "output_type": "display_data",
          "data": {
            "text/plain": [
              "--------------------------  -----------------------------------------------------------------------------------------\n",
              "H2O_cluster_uptime:         03 secs\n",
              "H2O_cluster_timezone:       Etc/UTC\n",
              "H2O_data_parsing_timezone:  UTC\n",
              "H2O_cluster_version:        3.46.0.7\n",
              "H2O_cluster_version_age:    1 month and 8 days\n",
              "H2O_cluster_name:           H2O_from_python_unknownUser_e7180m\n",
              "H2O_cluster_total_nodes:    1\n",
              "H2O_cluster_free_memory:    3.170 Gb\n",
              "H2O_cluster_total_cores:    2\n",
              "H2O_cluster_allowed_cores:  2\n",
              "H2O_cluster_status:         locked, healthy\n",
              "H2O_connection_url:         http://127.0.0.1:54321\n",
              "H2O_connection_proxy:       {\"http\": null, \"https\": null, \"colab_language_server\": \"/usr/colab/bin/language_service\"}\n",
              "H2O_internal_security:      False\n",
              "Python_version:             3.11.12 final\n",
              "--------------------------  -----------------------------------------------------------------------------------------"
            ],
            "text/html": [
              "\n",
              "<style>\n",
              "\n",
              "#h2o-table-1.h2o-container {\n",
              "  overflow-x: auto;\n",
              "}\n",
              "#h2o-table-1 .h2o-table {\n",
              "  /* width: 100%; */\n",
              "  margin-top: 1em;\n",
              "  margin-bottom: 1em;\n",
              "}\n",
              "#h2o-table-1 .h2o-table caption {\n",
              "  white-space: nowrap;\n",
              "  caption-side: top;\n",
              "  text-align: left;\n",
              "  /* margin-left: 1em; */\n",
              "  margin: 0;\n",
              "  font-size: larger;\n",
              "}\n",
              "#h2o-table-1 .h2o-table thead {\n",
              "  white-space: nowrap; \n",
              "  position: sticky;\n",
              "  top: 0;\n",
              "  box-shadow: 0 -1px inset;\n",
              "}\n",
              "#h2o-table-1 .h2o-table tbody {\n",
              "  overflow: auto;\n",
              "}\n",
              "#h2o-table-1 .h2o-table th,\n",
              "#h2o-table-1 .h2o-table td {\n",
              "  text-align: right;\n",
              "  /* border: 1px solid; */\n",
              "}\n",
              "#h2o-table-1 .h2o-table tr:nth-child(even) {\n",
              "  /* background: #F5F5F5 */\n",
              "}\n",
              "\n",
              "</style>      \n",
              "<div id=\"h2o-table-1\" class=\"h2o-container\">\n",
              "  <table class=\"h2o-table\">\n",
              "    <caption></caption>\n",
              "    <thead></thead>\n",
              "    <tbody><tr><td>H2O_cluster_uptime:</td>\n",
              "<td>03 secs</td></tr>\n",
              "<tr><td>H2O_cluster_timezone:</td>\n",
              "<td>Etc/UTC</td></tr>\n",
              "<tr><td>H2O_data_parsing_timezone:</td>\n",
              "<td>UTC</td></tr>\n",
              "<tr><td>H2O_cluster_version:</td>\n",
              "<td>3.46.0.7</td></tr>\n",
              "<tr><td>H2O_cluster_version_age:</td>\n",
              "<td>1 month and 8 days</td></tr>\n",
              "<tr><td>H2O_cluster_name:</td>\n",
              "<td>H2O_from_python_unknownUser_e7180m</td></tr>\n",
              "<tr><td>H2O_cluster_total_nodes:</td>\n",
              "<td>1</td></tr>\n",
              "<tr><td>H2O_cluster_free_memory:</td>\n",
              "<td>3.170 Gb</td></tr>\n",
              "<tr><td>H2O_cluster_total_cores:</td>\n",
              "<td>2</td></tr>\n",
              "<tr><td>H2O_cluster_allowed_cores:</td>\n",
              "<td>2</td></tr>\n",
              "<tr><td>H2O_cluster_status:</td>\n",
              "<td>locked, healthy</td></tr>\n",
              "<tr><td>H2O_connection_url:</td>\n",
              "<td>http://127.0.0.1:54321</td></tr>\n",
              "<tr><td>H2O_connection_proxy:</td>\n",
              "<td>{\"http\": null, \"https\": null, \"colab_language_server\": \"/usr/colab/bin/language_service\"}</td></tr>\n",
              "<tr><td>H2O_internal_security:</td>\n",
              "<td>False</td></tr>\n",
              "<tr><td>Python_version:</td>\n",
              "<td>3.11.12 final</td></tr></tbody>\n",
              "  </table>\n",
              "</div>\n"
            ]
          },
          "metadata": {}
        }
      ]
    },
    {
      "cell_type": "markdown",
      "source": [
        "Load and prepare data"
      ],
      "metadata": {
        "id": "x5aEDh3HFRGb"
      }
    },
    {
      "cell_type": "code",
      "source": [
        "df = h2o.import_file(\"00-AI4I 2020 Predictive Maintenance Dataset.csv\")\n",
        "\n",
        "# Drop irrelevant columns\n",
        "df = df.drop([\"\\ufeffUDI\", \"Product ID\", \"Type\"], axis=1)\n",
        "\n",
        "# Convert categorical variables\n",
        "#df[\"Type\"] = df[\"Type\"].asfactor()\n",
        "df[\"Failure Type\"] = df[\"Failure Type\"].asfactor()\n",
        "df[\"Target\"] = df[\"Target\"].asfactor()\n",
        "\n",
        "# Split dataset\n",
        "train, test = df.split_frame(ratios=[0.75], seed=42)"
      ],
      "metadata": {
        "colab": {
          "base_uri": "https://localhost:8080/"
        },
        "id": "R0zzwD-jDtHv",
        "outputId": "7ecda11e-caa9-41f6-9823-978a884433d8"
      },
      "execution_count": 3,
      "outputs": [
        {
          "output_type": "stream",
          "name": "stdout",
          "text": [
            "Parse progress: |████████████████████████████████████████████████████████████████| (done) 100%\n"
          ]
        }
      ]
    },
    {
      "cell_type": "markdown",
      "source": [
        "Run AutoML for failure occurence (Target)"
      ],
      "metadata": {
        "id": "Akc-gP07FYKD"
      }
    },
    {
      "cell_type": "code",
      "source": [
        "# Drop 'Failure Type' (to prevent leakage)\n",
        "X_occurrence = train.drop([\"Target\", \"Failure Type\"])\n",
        "y_occurrence = train[\"Target\"]\n",
        "\n",
        "# Run H2O AutoML\n",
        "aml_occ = H2OAutoML(max_models=20, balance_classes=True, stopping_metric=\"AUC\", seed=42)\n",
        "aml_occ.train(x=X_occurrence.columns, y=\"Target\", training_frame=train)\n",
        "\n",
        "# View leaderboard\n",
        "aml_occ.leaderboard"
      ],
      "metadata": {
        "colab": {
          "base_uri": "https://localhost:8080/",
          "height": 406
        },
        "id": "8Zduorr8DwLe",
        "outputId": "af4d5b17-6361-4375-803e-6355b837b665"
      },
      "execution_count": 4,
      "outputs": [
        {
          "output_type": "stream",
          "name": "stdout",
          "text": [
            "AutoML progress: |███████████████████████████████████████████████████████████████| (done) 100%\n"
          ]
        },
        {
          "output_type": "execute_result",
          "data": {
            "text/plain": [
              "model_id                                                     auc    logloss     aucpr    mean_per_class_error      rmse        mse\n",
              "------------------------------------------------------  --------  ---------  --------  ----------------------  --------  ---------\n",
              "StackedEnsemble_AllModels_1_AutoML_1_20250506_53126     0.987906  0.0424572  0.822815                0.135202  0.105769  0.0111871\n",
              "StackedEnsemble_BestOfFamily_1_AutoML_1_20250506_53126  0.986418  0.0450413  0.80447                 0.133919  0.110091  0.01212\n",
              "XGBoost_grid_1_AutoML_1_20250506_53126_model_2          0.985988  0.0462382  0.785033                0.118419  0.112034  0.0125515\n",
              "XGBoost_3_AutoML_1_20250506_53126                       0.984951  0.0712854  0.766294                0.132843  0.143178  0.0204998\n",
              "XGBoost_2_AutoML_1_20250506_53126                       0.9839    0.062334   0.787457                0.12461   0.132142  0.0174615\n",
              "GBM_1_AutoML_1_20250506_53126                           0.983443  0.0689261  0.775861                0.132429  0.145637  0.0212101\n",
              "XGBoost_1_AutoML_1_20250506_53126                       0.983407  0.0873451  0.751769                0.170447  0.163283  0.0266614\n",
              "GBM_grid_1_AutoML_1_20250506_53126_model_1              0.982324  0.0701192  0.746618                0.191587  0.140739  0.0198075\n",
              "GBM_2_AutoML_1_20250506_53126                           0.980072  0.0728148  0.769832                0.16609   0.143121  0.0204836\n",
              "GBM_3_AutoML_1_20250506_53126                           0.978707  0.0729057  0.774154                0.13236   0.144179  0.0207876\n",
              "[22 rows x 7 columns]\n"
            ],
            "text/html": [
              "<table class='dataframe'>\n",
              "<thead>\n",
              "<tr><th>model_id                                              </th><th style=\"text-align: right;\">     auc</th><th style=\"text-align: right;\">  logloss</th><th style=\"text-align: right;\">   aucpr</th><th style=\"text-align: right;\">  mean_per_class_error</th><th style=\"text-align: right;\">    rmse</th><th style=\"text-align: right;\">      mse</th></tr>\n",
              "</thead>\n",
              "<tbody>\n",
              "<tr><td>StackedEnsemble_AllModels_1_AutoML_1_20250506_53126   </td><td style=\"text-align: right;\">0.987906</td><td style=\"text-align: right;\">0.0424572</td><td style=\"text-align: right;\">0.822815</td><td style=\"text-align: right;\">              0.135202</td><td style=\"text-align: right;\">0.105769</td><td style=\"text-align: right;\">0.0111871</td></tr>\n",
              "<tr><td>StackedEnsemble_BestOfFamily_1_AutoML_1_20250506_53126</td><td style=\"text-align: right;\">0.986418</td><td style=\"text-align: right;\">0.0450413</td><td style=\"text-align: right;\">0.80447 </td><td style=\"text-align: right;\">              0.133919</td><td style=\"text-align: right;\">0.110091</td><td style=\"text-align: right;\">0.01212  </td></tr>\n",
              "<tr><td>XGBoost_grid_1_AutoML_1_20250506_53126_model_2        </td><td style=\"text-align: right;\">0.985988</td><td style=\"text-align: right;\">0.0462382</td><td style=\"text-align: right;\">0.785033</td><td style=\"text-align: right;\">              0.118419</td><td style=\"text-align: right;\">0.112034</td><td style=\"text-align: right;\">0.0125515</td></tr>\n",
              "<tr><td>XGBoost_3_AutoML_1_20250506_53126                     </td><td style=\"text-align: right;\">0.984951</td><td style=\"text-align: right;\">0.0712854</td><td style=\"text-align: right;\">0.766294</td><td style=\"text-align: right;\">              0.132843</td><td style=\"text-align: right;\">0.143178</td><td style=\"text-align: right;\">0.0204998</td></tr>\n",
              "<tr><td>XGBoost_2_AutoML_1_20250506_53126                     </td><td style=\"text-align: right;\">0.9839  </td><td style=\"text-align: right;\">0.062334 </td><td style=\"text-align: right;\">0.787457</td><td style=\"text-align: right;\">              0.12461 </td><td style=\"text-align: right;\">0.132142</td><td style=\"text-align: right;\">0.0174615</td></tr>\n",
              "<tr><td>GBM_1_AutoML_1_20250506_53126                         </td><td style=\"text-align: right;\">0.983443</td><td style=\"text-align: right;\">0.0689261</td><td style=\"text-align: right;\">0.775861</td><td style=\"text-align: right;\">              0.132429</td><td style=\"text-align: right;\">0.145637</td><td style=\"text-align: right;\">0.0212101</td></tr>\n",
              "<tr><td>XGBoost_1_AutoML_1_20250506_53126                     </td><td style=\"text-align: right;\">0.983407</td><td style=\"text-align: right;\">0.0873451</td><td style=\"text-align: right;\">0.751769</td><td style=\"text-align: right;\">              0.170447</td><td style=\"text-align: right;\">0.163283</td><td style=\"text-align: right;\">0.0266614</td></tr>\n",
              "<tr><td>GBM_grid_1_AutoML_1_20250506_53126_model_1            </td><td style=\"text-align: right;\">0.982324</td><td style=\"text-align: right;\">0.0701192</td><td style=\"text-align: right;\">0.746618</td><td style=\"text-align: right;\">              0.191587</td><td style=\"text-align: right;\">0.140739</td><td style=\"text-align: right;\">0.0198075</td></tr>\n",
              "<tr><td>GBM_2_AutoML_1_20250506_53126                         </td><td style=\"text-align: right;\">0.980072</td><td style=\"text-align: right;\">0.0728148</td><td style=\"text-align: right;\">0.769832</td><td style=\"text-align: right;\">              0.16609 </td><td style=\"text-align: right;\">0.143121</td><td style=\"text-align: right;\">0.0204836</td></tr>\n",
              "<tr><td>GBM_3_AutoML_1_20250506_53126                         </td><td style=\"text-align: right;\">0.978707</td><td style=\"text-align: right;\">0.0729057</td><td style=\"text-align: right;\">0.774154</td><td style=\"text-align: right;\">              0.13236 </td><td style=\"text-align: right;\">0.144179</td><td style=\"text-align: right;\">0.0207876</td></tr>\n",
              "</tbody>\n",
              "</table><pre style='font-size: smaller; margin-bottom: 1em;'>[22 rows x 7 columns]</pre>"
            ]
          },
          "metadata": {},
          "execution_count": 4
        }
      ]
    },
    {
      "cell_type": "markdown",
      "source": [
        "Print the leader model summary and performance metrics for failure occurence"
      ],
      "metadata": {
        "id": "R-Uhw-OgFehk"
      }
    },
    {
      "cell_type": "code",
      "source": [
        "# Get the best model from AutoML\n",
        "best_model = aml_occ.leader\n",
        "\n",
        "# Print model performance\n",
        "best_model.model_performance().show()"
      ],
      "metadata": {
        "colab": {
          "base_uri": "https://localhost:8080/",
          "height": 1000
        },
        "id": "STIAeFoQDyFv",
        "outputId": "3b6a3924-58df-429b-b213-7dcb2ceb05ba"
      },
      "execution_count": 5,
      "outputs": [
        {
          "output_type": "display_data",
          "data": {
            "text/plain": [
              "ModelMetricsBinomialGLM: stackedensemble\n",
              "** Reported on train data. **\n",
              "\n",
              "MSE: 0.0019423410732739622\n",
              "RMSE: 0.044071998743805144\n",
              "LogLoss: 0.010913090181043425\n",
              "AUC: 0.9999437636724572\n",
              "AUCPR: 0.9983144546813604\n",
              "Gini: 0.9998875273449144\n",
              "Null degrees of freedom: 7502\n",
              "Residual degrees of freedom: 7493\n",
              "Null deviance: 2158.5933432232355\n",
              "Residual deviance: 163.7618312567376\n",
              "AIC: 183.7618312567376\n",
              "\n",
              "Confusion Matrix (Act/Pred) for max f1 @ threshold = 0.5959837465460464\n",
              "       0     1    Error    Rate\n",
              "-----  ----  ---  -------  ------------\n",
              "0      7252  6    0.0008   (6.0/7258.0)\n",
              "1      2     243  0.0082   (2.0/245.0)\n",
              "Total  7254  249  0.0011   (8.0/7503.0)\n",
              "\n",
              "Maximum Metrics: Maximum metrics at their respective thresholds\n",
              "metric                       threshold    value     idx\n",
              "---------------------------  -----------  --------  -----\n",
              "max f1                       0.595984     0.983806  135\n",
              "max f2                       0.534405     0.991903  141\n",
              "max f0point5                 0.631557     0.980472  132\n",
              "max accuracy                 0.595984     0.998934  135\n",
              "max precision                0.998104     1         0\n",
              "max recall                   0.534405     1         141\n",
              "max specificity              0.998104     1         0\n",
              "max absolute_mcc             0.595984     0.983289  135\n",
              "max min_per_class_accuracy   0.534405     0.998622  141\n",
              "max mean_per_class_accuracy  0.534405     0.999311  141\n",
              "max tns                      0.998104     7258      0\n",
              "max fns                      0.998104     244       0\n",
              "max fps                      0.000201096  7258      399\n",
              "max tps                      0.534405     245       141\n",
              "max tnr                      0.998104     1         0\n",
              "max fnr                      0.998104     0.995918  0\n",
              "max fpr                      0.000201096  1         399\n",
              "max tpr                      0.534405     1         141\n",
              "\n",
              "Gains/Lift Table: Avg response rate:  3.27 %, avg score:  3.73 %\n",
              "group    cumulative_data_fraction    lower_threshold    lift     cumulative_lift    response_rate    score        cumulative_response_rate    cumulative_score    capture_rate    cumulative_capture_rate    gain     cumulative_gain    kolmogorov_smirnov\n",
              "-------  --------------------------  -----------------  -------  -----------------  ---------------  -----------  --------------------------  ------------------  --------------  -------------------------  -------  -----------------  --------------------\n",
              "1        0.0101293                   0.970198           30.6245  30.6245            1                0.984242     1                           0.984242            0.310204        0.310204                   2962.45  2962.45            0.310204\n",
              "2        0.0201253                   0.942387           30.6245  30.6245            1                0.95901      1                           0.97171             0.306122        0.616327                   2962.45  2962.45            0.616327\n",
              "3        0.0301213                   0.824343           30.2162  30.489             0.986667         0.90294      0.995575                    0.948888            0.302041        0.918367                   2921.62  2948.9             0.91823\n",
              "4        0.0401173                   0.173558           8.16653  24.9269            0.266667         0.44943      0.813953                    0.824438            0.0816327       1                          716.653  2392.69            0.992284\n",
              "5        0.0501133                   0.0906093          0        19.9548            0                0.126371     0.651596                    0.685196            0               1                          -100     1895.48            0.981951\n",
              "6        0.100093                    0.0132279          0        9.99068            0                0.0376287    0.326232                    0.361844            0               1                          -100     899.068            0.930284\n",
              "7        0.150073                    0.00367395         0        6.66341            0                0.00717939   0.217584                    0.243727            0               1                          -100     566.341            0.878617\n",
              "8        0.200053                    0.00215154         0        4.99867            0                0.00275788   0.163225                    0.183525            0               1                          -100     399.867            0.82695\n",
              "9        0.300013                    0.00130381         0        3.33319            0                0.0016336    0.108841                    0.122921            0               1                          -100     233.319            0.723615\n",
              "10       0.399973                    0.000934711        0        2.50017            0                0.00109749   0.0816395                   0.0924756           0               1                          -100     150.017            0.620281\n",
              "11       0.500067                    0.000739978        0        1.99973            0                0.000827914  0.0652985                   0.0741314           0               1                          -100     99.9733            0.516809\n",
              "12       0.600027                    0.00060213         0        1.66659            0                0.00066846   0.0544203                   0.061893            0               1                          -100     66.6593            0.413475\n",
              "13       0.699987                    0.000502965        0        1.4286             0                0.000551933  0.0466489                   0.0531334           0               1                          -100     42.8599            0.310141\n",
              "14       0.799947                    0.000414073        0        1.25008            0                0.000458038  0.0408197                   0.0465511           0               1                          -100     25.0083            0.206806\n",
              "15       0.899907                    0.000323354        0        1.11123            0                0.000368708  0.0362855                   0.0414213           0               1                          -100     11.1226            0.103472\n",
              "16       1                           0.000167182        0        1                  0                0.000259756  0.0326536                   0.0373013           0               1                          -100     0                  0"
            ],
            "text/html": [
              "<pre style='margin: 1em 0 1em 0;'>ModelMetricsBinomialGLM: stackedensemble\n",
              "** Reported on train data. **\n",
              "\n",
              "MSE: 0.0019423410732739622\n",
              "RMSE: 0.044071998743805144\n",
              "LogLoss: 0.010913090181043425\n",
              "AUC: 0.9999437636724572\n",
              "AUCPR: 0.9983144546813604\n",
              "Gini: 0.9998875273449144\n",
              "Null degrees of freedom: 7502\n",
              "Residual degrees of freedom: 7493\n",
              "Null deviance: 2158.5933432232355\n",
              "Residual deviance: 163.7618312567376\n",
              "AIC: 183.7618312567376</pre>\n",
              "<div style='margin: 1em 0 1em 0;'>\n",
              "<style>\n",
              "\n",
              "#h2o-table-2.h2o-container {\n",
              "  overflow-x: auto;\n",
              "}\n",
              "#h2o-table-2 .h2o-table {\n",
              "  /* width: 100%; */\n",
              "  margin-top: 1em;\n",
              "  margin-bottom: 1em;\n",
              "}\n",
              "#h2o-table-2 .h2o-table caption {\n",
              "  white-space: nowrap;\n",
              "  caption-side: top;\n",
              "  text-align: left;\n",
              "  /* margin-left: 1em; */\n",
              "  margin: 0;\n",
              "  font-size: larger;\n",
              "}\n",
              "#h2o-table-2 .h2o-table thead {\n",
              "  white-space: nowrap; \n",
              "  position: sticky;\n",
              "  top: 0;\n",
              "  box-shadow: 0 -1px inset;\n",
              "}\n",
              "#h2o-table-2 .h2o-table tbody {\n",
              "  overflow: auto;\n",
              "}\n",
              "#h2o-table-2 .h2o-table th,\n",
              "#h2o-table-2 .h2o-table td {\n",
              "  text-align: right;\n",
              "  /* border: 1px solid; */\n",
              "}\n",
              "#h2o-table-2 .h2o-table tr:nth-child(even) {\n",
              "  /* background: #F5F5F5 */\n",
              "}\n",
              "\n",
              "</style>      \n",
              "<div id=\"h2o-table-2\" class=\"h2o-container\">\n",
              "  <table class=\"h2o-table\">\n",
              "    <caption>Confusion Matrix (Act/Pred) for max f1 @ threshold = 0.5959837465460464</caption>\n",
              "    <thead><tr><th></th>\n",
              "<th>0</th>\n",
              "<th>1</th>\n",
              "<th>Error</th>\n",
              "<th>Rate</th></tr></thead>\n",
              "    <tbody><tr><td>0</td>\n",
              "<td>7252.0</td>\n",
              "<td>6.0</td>\n",
              "<td>0.0008</td>\n",
              "<td> (6.0/7258.0)</td></tr>\n",
              "<tr><td>1</td>\n",
              "<td>2.0</td>\n",
              "<td>243.0</td>\n",
              "<td>0.0082</td>\n",
              "<td> (2.0/245.0)</td></tr>\n",
              "<tr><td>Total</td>\n",
              "<td>7254.0</td>\n",
              "<td>249.0</td>\n",
              "<td>0.0011</td>\n",
              "<td> (8.0/7503.0)</td></tr></tbody>\n",
              "  </table>\n",
              "</div>\n",
              "</div>\n",
              "<div style='margin: 1em 0 1em 0;'>\n",
              "<style>\n",
              "\n",
              "#h2o-table-3.h2o-container {\n",
              "  overflow-x: auto;\n",
              "}\n",
              "#h2o-table-3 .h2o-table {\n",
              "  /* width: 100%; */\n",
              "  margin-top: 1em;\n",
              "  margin-bottom: 1em;\n",
              "}\n",
              "#h2o-table-3 .h2o-table caption {\n",
              "  white-space: nowrap;\n",
              "  caption-side: top;\n",
              "  text-align: left;\n",
              "  /* margin-left: 1em; */\n",
              "  margin: 0;\n",
              "  font-size: larger;\n",
              "}\n",
              "#h2o-table-3 .h2o-table thead {\n",
              "  white-space: nowrap; \n",
              "  position: sticky;\n",
              "  top: 0;\n",
              "  box-shadow: 0 -1px inset;\n",
              "}\n",
              "#h2o-table-3 .h2o-table tbody {\n",
              "  overflow: auto;\n",
              "}\n",
              "#h2o-table-3 .h2o-table th,\n",
              "#h2o-table-3 .h2o-table td {\n",
              "  text-align: right;\n",
              "  /* border: 1px solid; */\n",
              "}\n",
              "#h2o-table-3 .h2o-table tr:nth-child(even) {\n",
              "  /* background: #F5F5F5 */\n",
              "}\n",
              "\n",
              "</style>      \n",
              "<div id=\"h2o-table-3\" class=\"h2o-container\">\n",
              "  <table class=\"h2o-table\">\n",
              "    <caption>Maximum Metrics: Maximum metrics at their respective thresholds</caption>\n",
              "    <thead><tr><th>metric</th>\n",
              "<th>threshold</th>\n",
              "<th>value</th>\n",
              "<th>idx</th></tr></thead>\n",
              "    <tbody><tr><td>max f1</td>\n",
              "<td>0.5959837</td>\n",
              "<td>0.9838057</td>\n",
              "<td>135.0</td></tr>\n",
              "<tr><td>max f2</td>\n",
              "<td>0.5344052</td>\n",
              "<td>0.9919028</td>\n",
              "<td>141.0</td></tr>\n",
              "<tr><td>max f0point5</td>\n",
              "<td>0.6315568</td>\n",
              "<td>0.9804719</td>\n",
              "<td>132.0</td></tr>\n",
              "<tr><td>max accuracy</td>\n",
              "<td>0.5959837</td>\n",
              "<td>0.9989338</td>\n",
              "<td>135.0</td></tr>\n",
              "<tr><td>max precision</td>\n",
              "<td>0.9981041</td>\n",
              "<td>1.0</td>\n",
              "<td>0.0</td></tr>\n",
              "<tr><td>max recall</td>\n",
              "<td>0.5344052</td>\n",
              "<td>1.0</td>\n",
              "<td>141.0</td></tr>\n",
              "<tr><td>max specificity</td>\n",
              "<td>0.9981041</td>\n",
              "<td>1.0</td>\n",
              "<td>0.0</td></tr>\n",
              "<tr><td>max absolute_mcc</td>\n",
              "<td>0.5959837</td>\n",
              "<td>0.9832889</td>\n",
              "<td>135.0</td></tr>\n",
              "<tr><td>max min_per_class_accuracy</td>\n",
              "<td>0.5344052</td>\n",
              "<td>0.9986222</td>\n",
              "<td>141.0</td></tr>\n",
              "<tr><td>max mean_per_class_accuracy</td>\n",
              "<td>0.5344052</td>\n",
              "<td>0.9993111</td>\n",
              "<td>141.0</td></tr>\n",
              "<tr><td>max tns</td>\n",
              "<td>0.9981041</td>\n",
              "<td>7258.0</td>\n",
              "<td>0.0</td></tr>\n",
              "<tr><td>max fns</td>\n",
              "<td>0.9981041</td>\n",
              "<td>244.0</td>\n",
              "<td>0.0</td></tr>\n",
              "<tr><td>max fps</td>\n",
              "<td>0.0002011</td>\n",
              "<td>7258.0</td>\n",
              "<td>399.0</td></tr>\n",
              "<tr><td>max tps</td>\n",
              "<td>0.5344052</td>\n",
              "<td>245.0</td>\n",
              "<td>141.0</td></tr>\n",
              "<tr><td>max tnr</td>\n",
              "<td>0.9981041</td>\n",
              "<td>1.0</td>\n",
              "<td>0.0</td></tr>\n",
              "<tr><td>max fnr</td>\n",
              "<td>0.9981041</td>\n",
              "<td>0.9959184</td>\n",
              "<td>0.0</td></tr>\n",
              "<tr><td>max fpr</td>\n",
              "<td>0.0002011</td>\n",
              "<td>1.0</td>\n",
              "<td>399.0</td></tr>\n",
              "<tr><td>max tpr</td>\n",
              "<td>0.5344052</td>\n",
              "<td>1.0</td>\n",
              "<td>141.0</td></tr></tbody>\n",
              "  </table>\n",
              "</div>\n",
              "</div>\n",
              "<div style='margin: 1em 0 1em 0;'>\n",
              "<style>\n",
              "\n",
              "#h2o-table-4.h2o-container {\n",
              "  overflow-x: auto;\n",
              "}\n",
              "#h2o-table-4 .h2o-table {\n",
              "  /* width: 100%; */\n",
              "  margin-top: 1em;\n",
              "  margin-bottom: 1em;\n",
              "}\n",
              "#h2o-table-4 .h2o-table caption {\n",
              "  white-space: nowrap;\n",
              "  caption-side: top;\n",
              "  text-align: left;\n",
              "  /* margin-left: 1em; */\n",
              "  margin: 0;\n",
              "  font-size: larger;\n",
              "}\n",
              "#h2o-table-4 .h2o-table thead {\n",
              "  white-space: nowrap; \n",
              "  position: sticky;\n",
              "  top: 0;\n",
              "  box-shadow: 0 -1px inset;\n",
              "}\n",
              "#h2o-table-4 .h2o-table tbody {\n",
              "  overflow: auto;\n",
              "}\n",
              "#h2o-table-4 .h2o-table th,\n",
              "#h2o-table-4 .h2o-table td {\n",
              "  text-align: right;\n",
              "  /* border: 1px solid; */\n",
              "}\n",
              "#h2o-table-4 .h2o-table tr:nth-child(even) {\n",
              "  /* background: #F5F5F5 */\n",
              "}\n",
              "\n",
              "</style>      \n",
              "<div id=\"h2o-table-4\" class=\"h2o-container\">\n",
              "  <table class=\"h2o-table\">\n",
              "    <caption>Gains/Lift Table: Avg response rate:  3.27 %, avg score:  3.73 %</caption>\n",
              "    <thead><tr><th>group</th>\n",
              "<th>cumulative_data_fraction</th>\n",
              "<th>lower_threshold</th>\n",
              "<th>lift</th>\n",
              "<th>cumulative_lift</th>\n",
              "<th>response_rate</th>\n",
              "<th>score</th>\n",
              "<th>cumulative_response_rate</th>\n",
              "<th>cumulative_score</th>\n",
              "<th>capture_rate</th>\n",
              "<th>cumulative_capture_rate</th>\n",
              "<th>gain</th>\n",
              "<th>cumulative_gain</th>\n",
              "<th>kolmogorov_smirnov</th></tr></thead>\n",
              "    <tbody><tr><td>1</td>\n",
              "<td>0.0101293</td>\n",
              "<td>0.9701976</td>\n",
              "<td>30.6244898</td>\n",
              "<td>30.6244898</td>\n",
              "<td>1.0</td>\n",
              "<td>0.9842423</td>\n",
              "<td>1.0</td>\n",
              "<td>0.9842423</td>\n",
              "<td>0.3102041</td>\n",
              "<td>0.3102041</td>\n",
              "<td>2962.4489796</td>\n",
              "<td>2962.4489796</td>\n",
              "<td>0.3102041</td></tr>\n",
              "<tr><td>2</td>\n",
              "<td>0.0201253</td>\n",
              "<td>0.9423869</td>\n",
              "<td>30.6244898</td>\n",
              "<td>30.6244898</td>\n",
              "<td>1.0</td>\n",
              "<td>0.9590102</td>\n",
              "<td>1.0</td>\n",
              "<td>0.9717098</td>\n",
              "<td>0.3061224</td>\n",
              "<td>0.6163265</td>\n",
              "<td>2962.4489796</td>\n",
              "<td>2962.4489796</td>\n",
              "<td>0.6163265</td></tr>\n",
              "<tr><td>3</td>\n",
              "<td>0.0301213</td>\n",
              "<td>0.8243429</td>\n",
              "<td>30.2161633</td>\n",
              "<td>30.4889832</td>\n",
              "<td>0.9866667</td>\n",
              "<td>0.9029401</td>\n",
              "<td>0.9955752</td>\n",
              "<td>0.9488880</td>\n",
              "<td>0.3020408</td>\n",
              "<td>0.9183673</td>\n",
              "<td>2921.6163265</td>\n",
              "<td>2948.8983204</td>\n",
              "<td>0.9182296</td></tr>\n",
              "<tr><td>4</td>\n",
              "<td>0.0401173</td>\n",
              "<td>0.1735577</td>\n",
              "<td>8.1665306</td>\n",
              "<td>24.9269103</td>\n",
              "<td>0.2666667</td>\n",
              "<td>0.4494297</td>\n",
              "<td>0.8139535</td>\n",
              "<td>0.8244383</td>\n",
              "<td>0.0816327</td>\n",
              "<td>1.0</td>\n",
              "<td>716.6530612</td>\n",
              "<td>2392.6910299</td>\n",
              "<td>0.9922844</td></tr>\n",
              "<tr><td>5</td>\n",
              "<td>0.0501133</td>\n",
              "<td>0.0906093</td>\n",
              "<td>0.0</td>\n",
              "<td>19.9547872</td>\n",
              "<td>0.0</td>\n",
              "<td>0.1263709</td>\n",
              "<td>0.6515957</td>\n",
              "<td>0.6851961</td>\n",
              "<td>0.0</td>\n",
              "<td>1.0</td>\n",
              "<td>-100.0</td>\n",
              "<td>1895.4787234</td>\n",
              "<td>0.9819510</td></tr>\n",
              "<tr><td>6</td>\n",
              "<td>0.1000933</td>\n",
              "<td>0.0132279</td>\n",
              "<td>0.0</td>\n",
              "<td>9.9906791</td>\n",
              "<td>0.0</td>\n",
              "<td>0.0376287</td>\n",
              "<td>0.3262317</td>\n",
              "<td>0.3618436</td>\n",
              "<td>0.0</td>\n",
              "<td>1.0</td>\n",
              "<td>-100.0</td>\n",
              "<td>899.0679095</td>\n",
              "<td>0.9302838</td></tr>\n",
              "<tr><td>7</td>\n",
              "<td>0.1500733</td>\n",
              "<td>0.0036740</td>\n",
              "<td>0.0</td>\n",
              "<td>6.6634103</td>\n",
              "<td>0.0</td>\n",
              "<td>0.0071794</td>\n",
              "<td>0.2175844</td>\n",
              "<td>0.2437272</td>\n",
              "<td>0.0</td>\n",
              "<td>1.0</td>\n",
              "<td>-100.0</td>\n",
              "<td>566.3410302</td>\n",
              "<td>0.8786167</td></tr>\n",
              "<tr><td>8</td>\n",
              "<td>0.2000533</td>\n",
              "<td>0.0021515</td>\n",
              "<td>0.0</td>\n",
              "<td>4.9986676</td>\n",
              "<td>0.0</td>\n",
              "<td>0.0027579</td>\n",
              "<td>0.1632245</td>\n",
              "<td>0.1835250</td>\n",
              "<td>0.0</td>\n",
              "<td>1.0</td>\n",
              "<td>-100.0</td>\n",
              "<td>399.8667555</td>\n",
              "<td>0.8269496</td></tr>\n",
              "<tr><td>9</td>\n",
              "<td>0.3000133</td>\n",
              "<td>0.0013038</td>\n",
              "<td>0.0</td>\n",
              "<td>3.3331853</td>\n",
              "<td>0.0</td>\n",
              "<td>0.0016336</td>\n",
              "<td>0.1088405</td>\n",
              "<td>0.1229215</td>\n",
              "<td>0.0</td>\n",
              "<td>1.0</td>\n",
              "<td>-100.0</td>\n",
              "<td>233.3185251</td>\n",
              "<td>0.7236153</td></tr>\n",
              "<tr><td>10</td>\n",
              "<td>0.3999733</td>\n",
              "<td>0.0009347</td>\n",
              "<td>0.0</td>\n",
              "<td>2.5001666</td>\n",
              "<td>0.0</td>\n",
              "<td>0.0010975</td>\n",
              "<td>0.0816395</td>\n",
              "<td>0.0924756</td>\n",
              "<td>0.0</td>\n",
              "<td>1.0</td>\n",
              "<td>-100.0</td>\n",
              "<td>150.0166611</td>\n",
              "<td>0.6202811</td></tr>\n",
              "<tr><td>11</td>\n",
              "<td>0.5000666</td>\n",
              "<td>0.0007400</td>\n",
              "<td>0.0</td>\n",
              "<td>1.9997335</td>\n",
              "<td>0.0</td>\n",
              "<td>0.0008279</td>\n",
              "<td>0.0652985</td>\n",
              "<td>0.0741314</td>\n",
              "<td>0.0</td>\n",
              "<td>1.0</td>\n",
              "<td>-100.0</td>\n",
              "<td>99.9733475</td>\n",
              "<td>0.5168090</td></tr>\n",
              "<tr><td>12</td>\n",
              "<td>0.6000267</td>\n",
              "<td>0.0006021</td>\n",
              "<td>0.0</td>\n",
              "<td>1.6665926</td>\n",
              "<td>0.0</td>\n",
              "<td>0.0006685</td>\n",
              "<td>0.0544203</td>\n",
              "<td>0.0618930</td>\n",
              "<td>0.0</td>\n",
              "<td>1.0</td>\n",
              "<td>-100.0</td>\n",
              "<td>66.6592625</td>\n",
              "<td>0.4134748</td></tr>\n",
              "<tr><td>13</td>\n",
              "<td>0.6999867</td>\n",
              "<td>0.0005030</td>\n",
              "<td>0.0</td>\n",
              "<td>1.4285986</td>\n",
              "<td>0.0</td>\n",
              "<td>0.0005519</td>\n",
              "<td>0.0466489</td>\n",
              "<td>0.0531334</td>\n",
              "<td>0.0</td>\n",
              "<td>1.0</td>\n",
              "<td>-100.0</td>\n",
              "<td>42.8598629</td>\n",
              "<td>0.3101405</td></tr>\n",
              "<tr><td>14</td>\n",
              "<td>0.7999467</td>\n",
              "<td>0.0004141</td>\n",
              "<td>0.0</td>\n",
              "<td>1.2500833</td>\n",
              "<td>0.0</td>\n",
              "<td>0.0004580</td>\n",
              "<td>0.0408197</td>\n",
              "<td>0.0465511</td>\n",
              "<td>0.0</td>\n",
              "<td>1.0</td>\n",
              "<td>-100.0</td>\n",
              "<td>25.0083306</td>\n",
              "<td>0.2068063</td></tr>\n",
              "<tr><td>15</td>\n",
              "<td>0.8999067</td>\n",
              "<td>0.0003234</td>\n",
              "<td>0.0</td>\n",
              "<td>1.1112263</td>\n",
              "<td>0.0</td>\n",
              "<td>0.0003687</td>\n",
              "<td>0.0362855</td>\n",
              "<td>0.0414213</td>\n",
              "<td>0.0</td>\n",
              "<td>1.0</td>\n",
              "<td>-100.0</td>\n",
              "<td>11.1226303</td>\n",
              "<td>0.1034720</td></tr>\n",
              "<tr><td>16</td>\n",
              "<td>1.0</td>\n",
              "<td>0.0001672</td>\n",
              "<td>0.0</td>\n",
              "<td>1.0</td>\n",
              "<td>0.0</td>\n",
              "<td>0.0002598</td>\n",
              "<td>0.0326536</td>\n",
              "<td>0.0373013</td>\n",
              "<td>0.0</td>\n",
              "<td>1.0</td>\n",
              "<td>-100.0</td>\n",
              "<td>0.0</td>\n",
              "<td>0.0</td></tr></tbody>\n",
              "  </table>\n",
              "</div>\n",
              "</div>"
            ]
          },
          "metadata": {}
        }
      ]
    },
    {
      "cell_type": "code",
      "source": [
        "# Generate predictions on the test set\n",
        "pred_occurrence = aml_occ.leader.predict(test)\n",
        "\n",
        "# Convert predictions to a Pandas dataframe for easier analysis\n",
        "pred_occurrence_df = pred_occurrence.as_data_frame()\n",
        "test_df = test.as_data_frame()\n",
        "\n",
        "# Merge predictions with actual values\n",
        "results_occ = test_df[[\"Target\"]].copy()\n",
        "results_occ[\"Predicted_Target\"] = pred_occurrence_df[\"predict\"]\n",
        "print(results_occ.head(10))"
      ],
      "metadata": {
        "colab": {
          "base_uri": "https://localhost:8080/"
        },
        "id": "EMrpEAXFD0B2",
        "outputId": "d50f7e82-f707-4695-cff3-8765a54cea0f"
      },
      "execution_count": 6,
      "outputs": [
        {
          "output_type": "stream",
          "name": "stdout",
          "text": [
            "stackedensemble prediction progress: |███████████████████████████████████████████| (done) 100%\n",
            "   Target  Predicted_Target\n",
            "0       0                 0\n",
            "1       0                 0\n",
            "2       0                 0\n",
            "3       0                 0\n",
            "4       0                 0\n",
            "5       0                 0\n",
            "6       0                 0\n",
            "7       0                 0\n",
            "8       0                 0\n",
            "9       0                 0\n"
          ]
        },
        {
          "output_type": "stream",
          "name": "stderr",
          "text": [
            "/usr/local/lib/python3.11/dist-packages/h2o/frame.py:1983: H2ODependencyWarning: Converting H2O frame to pandas dataframe using single-thread.  For faster conversion using multi-thread, install polars and pyarrow and use it as pandas_df = h2o_df.as_data_frame(use_multi_thread=True)\n",
            "\n",
            "  warnings.warn(\"Converting H2O frame to pandas dataframe using single-thread.  For faster conversion using\"\n",
            "/usr/local/lib/python3.11/dist-packages/h2o/frame.py:1983: H2ODependencyWarning: Converting H2O frame to pandas dataframe using single-thread.  For faster conversion using multi-thread, install polars and pyarrow and use it as pandas_df = h2o_df.as_data_frame(use_multi_thread=True)\n",
            "\n",
            "  warnings.warn(\"Converting H2O frame to pandas dataframe using single-thread.  For faster conversion using\"\n"
          ]
        }
      ]
    },
    {
      "cell_type": "markdown",
      "source": [
        "Run AutoML for failure type (Failure Type)"
      ],
      "metadata": {
        "id": "VP3i4SLXF15a"
      }
    },
    {
      "cell_type": "code",
      "source": [
        "# Keep only failure cases\n",
        "failure_subset = train[train[\"Target\"] == \"1\"]\n",
        "\n",
        "# Drop 'Target' (to prevent leakage)\n",
        "X_failure = failure_subset.drop([\"Target\", \"Failure Type\"])\n",
        "y_failure = failure_subset[\"Failure Type\"]\n",
        "\n",
        "# Run H2O AutoML\n",
        "aml_fail = H2OAutoML(max_models=20, seed=42)\n",
        "aml_fail.train(x=X_failure.columns, y=\"Failure Type\", training_frame=failure_subset)\n",
        "\n",
        "# View leaderboard\n",
        "aml_fail.leaderboard"
      ],
      "metadata": {
        "colab": {
          "base_uri": "https://localhost:8080/",
          "height": 565
        },
        "id": "mvdBTrVuD2YO",
        "outputId": "b1e9e950-fd39-40a8-b727-b392a29901f8"
      },
      "execution_count": 7,
      "outputs": [
        {
          "output_type": "stream",
          "name": "stdout",
          "text": [
            "AutoML progress: |██\n",
            "05:44:31.760: GBM_1_AutoML_2_20250506_54426 [GBM def_5] failed: water.exceptions.H2OModelBuilderIllegalArgumentException: Illegal argument(s) for GBM model: GBM_1_AutoML_2_20250506_54426.  Details: ERRR on field: _min_rows: The dataset size is too small to split for min_rows=100.0: must have at least 200.0 (weighted) rows, but have only 196.0.\n",
            "ERRR on field: _min_rows: The dataset size is too small to split for min_rows=100.0: must have at least 200.0 (weighted) rows, but have only 196.0.\n",
            "ERRR on field: _min_rows: The dataset size is too small to split for min_rows=100.0: must have at least 200.0 (weighted) rows, but have only 196.0.\n",
            "ERRR on field: _min_rows: The dataset size is too small to split for min_rows=100.0: must have at least 200.0 (weighted) rows, but have only 196.0.\n",
            "ERRR on field: _min_rows: The dataset size is too small to split for min_rows=100.0: must have at least 200.0 (weighted) rows, but have only 196.0.\n",
            "\n",
            "\n",
            "█████████████████████████████████████████████████████████████| (done) 100%\n"
          ]
        },
        {
          "output_type": "execute_result",
          "data": {
            "text/plain": [
              "model_id                                                  mean_per_class_error    logloss      rmse        mse\n",
              "------------------------------------------------------  ----------------------  ---------  --------  ---------\n",
              "StackedEnsemble_AllModels_1_AutoML_2_20250506_54426                  0.0357872   0.168305  0.224454  0.0503796\n",
              "GBM_2_AutoML_2_20250506_54426                                        0.0515294   0.241144  0.257714  0.0664166\n",
              "StackedEnsemble_BestOfFamily_1_AutoML_2_20250506_54426               0.0541241   0.193445  0.243132  0.0591134\n",
              "GBM_4_AutoML_2_20250506_54426                                        0.0576404   0.244813  0.263276  0.0693142\n",
              "XRT_1_AutoML_2_20250506_54426                                        0.0585827   0.243198  0.27206   0.0740166\n",
              "XGBoost_grid_1_AutoML_2_20250506_54426_model_2                       0.0627646   0.266805  0.278304  0.0774529\n",
              "GBM_5_AutoML_2_20250506_54426                                        0.0666088   0.283424  0.280172  0.0784965\n",
              "GBM_3_AutoML_2_20250506_54426                                        0.0670401   0.265273  0.274758  0.075492\n",
              "XGBoost_grid_1_AutoML_2_20250506_54426_model_4                       0.0685172   0.342997  0.316984  0.100479\n",
              "DeepLearning_grid_1_AutoML_2_20250506_54426_model_1                  0.068658    0.242191  0.264345  0.0698783\n",
              "[22 rows x 5 columns]\n"
            ],
            "text/html": [
              "<table class='dataframe'>\n",
              "<thead>\n",
              "<tr><th>model_id                                              </th><th style=\"text-align: right;\">  mean_per_class_error</th><th style=\"text-align: right;\">  logloss</th><th style=\"text-align: right;\">    rmse</th><th style=\"text-align: right;\">      mse</th></tr>\n",
              "</thead>\n",
              "<tbody>\n",
              "<tr><td>StackedEnsemble_AllModels_1_AutoML_2_20250506_54426   </td><td style=\"text-align: right;\">             0.0357872</td><td style=\"text-align: right;\"> 0.168305</td><td style=\"text-align: right;\">0.224454</td><td style=\"text-align: right;\">0.0503796</td></tr>\n",
              "<tr><td>GBM_2_AutoML_2_20250506_54426                         </td><td style=\"text-align: right;\">             0.0515294</td><td style=\"text-align: right;\"> 0.241144</td><td style=\"text-align: right;\">0.257714</td><td style=\"text-align: right;\">0.0664166</td></tr>\n",
              "<tr><td>StackedEnsemble_BestOfFamily_1_AutoML_2_20250506_54426</td><td style=\"text-align: right;\">             0.0541241</td><td style=\"text-align: right;\"> 0.193445</td><td style=\"text-align: right;\">0.243132</td><td style=\"text-align: right;\">0.0591134</td></tr>\n",
              "<tr><td>GBM_4_AutoML_2_20250506_54426                         </td><td style=\"text-align: right;\">             0.0576404</td><td style=\"text-align: right;\"> 0.244813</td><td style=\"text-align: right;\">0.263276</td><td style=\"text-align: right;\">0.0693142</td></tr>\n",
              "<tr><td>XRT_1_AutoML_2_20250506_54426                         </td><td style=\"text-align: right;\">             0.0585827</td><td style=\"text-align: right;\"> 0.243198</td><td style=\"text-align: right;\">0.27206 </td><td style=\"text-align: right;\">0.0740166</td></tr>\n",
              "<tr><td>XGBoost_grid_1_AutoML_2_20250506_54426_model_2        </td><td style=\"text-align: right;\">             0.0627646</td><td style=\"text-align: right;\"> 0.266805</td><td style=\"text-align: right;\">0.278304</td><td style=\"text-align: right;\">0.0774529</td></tr>\n",
              "<tr><td>GBM_5_AutoML_2_20250506_54426                         </td><td style=\"text-align: right;\">             0.0666088</td><td style=\"text-align: right;\"> 0.283424</td><td style=\"text-align: right;\">0.280172</td><td style=\"text-align: right;\">0.0784965</td></tr>\n",
              "<tr><td>GBM_3_AutoML_2_20250506_54426                         </td><td style=\"text-align: right;\">             0.0670401</td><td style=\"text-align: right;\"> 0.265273</td><td style=\"text-align: right;\">0.274758</td><td style=\"text-align: right;\">0.075492 </td></tr>\n",
              "<tr><td>XGBoost_grid_1_AutoML_2_20250506_54426_model_4        </td><td style=\"text-align: right;\">             0.0685172</td><td style=\"text-align: right;\"> 0.342997</td><td style=\"text-align: right;\">0.316984</td><td style=\"text-align: right;\">0.100479 </td></tr>\n",
              "<tr><td>DeepLearning_grid_1_AutoML_2_20250506_54426_model_1   </td><td style=\"text-align: right;\">             0.068658 </td><td style=\"text-align: right;\"> 0.242191</td><td style=\"text-align: right;\">0.264345</td><td style=\"text-align: right;\">0.0698783</td></tr>\n",
              "</tbody>\n",
              "</table><pre style='font-size: smaller; margin-bottom: 1em;'>[22 rows x 5 columns]</pre>"
            ]
          },
          "metadata": {},
          "execution_count": 7
        }
      ]
    },
    {
      "cell_type": "markdown",
      "source": [
        "Print the leader model summary and performance metrics for failure type"
      ],
      "metadata": {
        "id": "X1vS4fjPF9_O"
      }
    },
    {
      "cell_type": "code",
      "source": [
        "# Get the best model from AutoML\n",
        "best_model = aml_fail.leader\n",
        "\n",
        "# Print detailed model performance\n",
        "best_model.model_performance().show()"
      ],
      "metadata": {
        "colab": {
          "base_uri": "https://localhost:8080/",
          "height": 703
        },
        "id": "dHs9S6NAD5HW",
        "outputId": "b27f19aa-54aa-4b18-cc8e-a339f2acb1e1"
      },
      "execution_count": 8,
      "outputs": [
        {
          "output_type": "display_data",
          "data": {
            "text/plain": [
              "ModelMetricsMultinomialGLM: stackedensemble\n",
              "** Reported on train data. **\n",
              "\n",
              "MSE: 0.001153875187609922\n",
              "RMSE: 0.03396873838708058\n",
              "LogLoss: 0.015120531252267842\n",
              "Null degrees of freedom: 244\n",
              "Residual degrees of freedom: 208\n",
              "Null deviance: 651.0960966814969\n",
              "Residual deviance: 7.409060313611242\n",
              "AUC table was not computed: it is either disabled (model parameter 'auc_type' was set to AUTO or NONE) or the domain size exceeds the limit (maximum is 50 domains).\n",
              "AUCPR table was not computed: it is either disabled (model parameter 'auc_type' was set to AUTO or NONE) or the domain size exceeds the limit (maximum is 50 domains).\n",
              "\n",
              "Confusion Matrix: Row labels: Actual class; Column labels: Predicted class\n",
              "Heat Dissipation Failure    No Failure    Overstrain Failure    Power Failure    Random Failures    Tool Wear Failure    Error    Rate\n",
              "--------------------------  ------------  --------------------  ---------------  -----------------  -------------------  -------  -------\n",
              "84                          0             0                     0                0                  0                    0        0 / 84\n",
              "0                           0             0                     0                0                  0                    nan      0 / 0\n",
              "0                           0             62                    0                0                  0                    0        0 / 62\n",
              "0                           0             0                     69               0                  0                    0        0 / 69\n",
              "0                           0             0                     0                0                  0                    nan      0 / 0\n",
              "0                           0             0                     0                0                  30                   0        0 / 30\n",
              "84                          0             62                    69               0                  30                   0        0 / 245\n",
              "\n",
              "Top-6 Hit Ratios: \n",
              "k    hit_ratio\n",
              "---  -----------\n",
              "1    1\n",
              "2    1\n",
              "3    1\n",
              "4    1\n",
              "5    1\n",
              "6    1"
            ],
            "text/html": [
              "<pre style='margin: 1em 0 1em 0;'>ModelMetricsMultinomialGLM: stackedensemble\n",
              "** Reported on train data. **\n",
              "\n",
              "MSE: 0.001153875187609922\n",
              "RMSE: 0.03396873838708058\n",
              "LogLoss: 0.015120531252267842\n",
              "Null degrees of freedom: 244\n",
              "Residual degrees of freedom: 208\n",
              "Null deviance: 651.0960966814969\n",
              "Residual deviance: 7.409060313611242\n",
              "AUC table was not computed: it is either disabled (model parameter 'auc_type' was set to AUTO or NONE) or the domain size exceeds the limit (maximum is 50 domains).\n",
              "AUCPR table was not computed: it is either disabled (model parameter 'auc_type' was set to AUTO or NONE) or the domain size exceeds the limit (maximum is 50 domains).</pre>\n",
              "<div style='margin: 1em 0 1em 0;'>\n",
              "<style>\n",
              "\n",
              "#h2o-table-5.h2o-container {\n",
              "  overflow-x: auto;\n",
              "}\n",
              "#h2o-table-5 .h2o-table {\n",
              "  /* width: 100%; */\n",
              "  margin-top: 1em;\n",
              "  margin-bottom: 1em;\n",
              "}\n",
              "#h2o-table-5 .h2o-table caption {\n",
              "  white-space: nowrap;\n",
              "  caption-side: top;\n",
              "  text-align: left;\n",
              "  /* margin-left: 1em; */\n",
              "  margin: 0;\n",
              "  font-size: larger;\n",
              "}\n",
              "#h2o-table-5 .h2o-table thead {\n",
              "  white-space: nowrap; \n",
              "  position: sticky;\n",
              "  top: 0;\n",
              "  box-shadow: 0 -1px inset;\n",
              "}\n",
              "#h2o-table-5 .h2o-table tbody {\n",
              "  overflow: auto;\n",
              "}\n",
              "#h2o-table-5 .h2o-table th,\n",
              "#h2o-table-5 .h2o-table td {\n",
              "  text-align: right;\n",
              "  /* border: 1px solid; */\n",
              "}\n",
              "#h2o-table-5 .h2o-table tr:nth-child(even) {\n",
              "  /* background: #F5F5F5 */\n",
              "}\n",
              "\n",
              "</style>      \n",
              "<div id=\"h2o-table-5\" class=\"h2o-container\">\n",
              "  <table class=\"h2o-table\">\n",
              "    <caption>Confusion Matrix: Row labels: Actual class; Column labels: Predicted class</caption>\n",
              "    <thead><tr><th>Heat Dissipation Failure</th>\n",
              "<th>No Failure</th>\n",
              "<th>Overstrain Failure</th>\n",
              "<th>Power Failure</th>\n",
              "<th>Random Failures</th>\n",
              "<th>Tool Wear Failure</th>\n",
              "<th>Error</th>\n",
              "<th>Rate</th></tr></thead>\n",
              "    <tbody><tr><td>84.0</td>\n",
              "<td>0.0</td>\n",
              "<td>0.0</td>\n",
              "<td>0.0</td>\n",
              "<td>0.0</td>\n",
              "<td>0.0</td>\n",
              "<td>0.0</td>\n",
              "<td>0 / 84</td></tr>\n",
              "<tr><td>0.0</td>\n",
              "<td>0.0</td>\n",
              "<td>0.0</td>\n",
              "<td>0.0</td>\n",
              "<td>0.0</td>\n",
              "<td>0.0</td>\n",
              "<td>nan</td>\n",
              "<td>0 / 0</td></tr>\n",
              "<tr><td>0.0</td>\n",
              "<td>0.0</td>\n",
              "<td>62.0</td>\n",
              "<td>0.0</td>\n",
              "<td>0.0</td>\n",
              "<td>0.0</td>\n",
              "<td>0.0</td>\n",
              "<td>0 / 62</td></tr>\n",
              "<tr><td>0.0</td>\n",
              "<td>0.0</td>\n",
              "<td>0.0</td>\n",
              "<td>69.0</td>\n",
              "<td>0.0</td>\n",
              "<td>0.0</td>\n",
              "<td>0.0</td>\n",
              "<td>0 / 69</td></tr>\n",
              "<tr><td>0.0</td>\n",
              "<td>0.0</td>\n",
              "<td>0.0</td>\n",
              "<td>0.0</td>\n",
              "<td>0.0</td>\n",
              "<td>0.0</td>\n",
              "<td>nan</td>\n",
              "<td>0 / 0</td></tr>\n",
              "<tr><td>0.0</td>\n",
              "<td>0.0</td>\n",
              "<td>0.0</td>\n",
              "<td>0.0</td>\n",
              "<td>0.0</td>\n",
              "<td>30.0</td>\n",
              "<td>0.0</td>\n",
              "<td>0 / 30</td></tr>\n",
              "<tr><td>84.0</td>\n",
              "<td>0.0</td>\n",
              "<td>62.0</td>\n",
              "<td>69.0</td>\n",
              "<td>0.0</td>\n",
              "<td>30.0</td>\n",
              "<td>0.0</td>\n",
              "<td>0 / 245</td></tr></tbody>\n",
              "  </table>\n",
              "</div>\n",
              "</div>\n",
              "<div style='margin: 1em 0 1em 0;'>\n",
              "<style>\n",
              "\n",
              "#h2o-table-6.h2o-container {\n",
              "  overflow-x: auto;\n",
              "}\n",
              "#h2o-table-6 .h2o-table {\n",
              "  /* width: 100%; */\n",
              "  margin-top: 1em;\n",
              "  margin-bottom: 1em;\n",
              "}\n",
              "#h2o-table-6 .h2o-table caption {\n",
              "  white-space: nowrap;\n",
              "  caption-side: top;\n",
              "  text-align: left;\n",
              "  /* margin-left: 1em; */\n",
              "  margin: 0;\n",
              "  font-size: larger;\n",
              "}\n",
              "#h2o-table-6 .h2o-table thead {\n",
              "  white-space: nowrap; \n",
              "  position: sticky;\n",
              "  top: 0;\n",
              "  box-shadow: 0 -1px inset;\n",
              "}\n",
              "#h2o-table-6 .h2o-table tbody {\n",
              "  overflow: auto;\n",
              "}\n",
              "#h2o-table-6 .h2o-table th,\n",
              "#h2o-table-6 .h2o-table td {\n",
              "  text-align: right;\n",
              "  /* border: 1px solid; */\n",
              "}\n",
              "#h2o-table-6 .h2o-table tr:nth-child(even) {\n",
              "  /* background: #F5F5F5 */\n",
              "}\n",
              "\n",
              "</style>      \n",
              "<div id=\"h2o-table-6\" class=\"h2o-container\">\n",
              "  <table class=\"h2o-table\">\n",
              "    <caption>Top-6 Hit Ratios: </caption>\n",
              "    <thead><tr><th>k</th>\n",
              "<th>hit_ratio</th></tr></thead>\n",
              "    <tbody><tr><td>1</td>\n",
              "<td>1.0</td></tr>\n",
              "<tr><td>2</td>\n",
              "<td>1.0</td></tr>\n",
              "<tr><td>3</td>\n",
              "<td>1.0</td></tr>\n",
              "<tr><td>4</td>\n",
              "<td>1.0</td></tr>\n",
              "<tr><td>5</td>\n",
              "<td>1.0</td></tr>\n",
              "<tr><td>6</td>\n",
              "<td>1.0</td></tr></tbody>\n",
              "  </table>\n",
              "</div>\n",
              "</div>"
            ]
          },
          "metadata": {}
        }
      ]
    },
    {
      "cell_type": "code",
      "source": [
        "# Filter test data where failure occurred (Target = 1)\n",
        "failure_test_subset = test[test[\"Target\"] == \"1\"]\n",
        "\n",
        "# Generate predictions for failure type classification\n",
        "pred_failure_type = aml_fail.leader.predict(failure_test_subset)\n",
        "\n",
        "# Convert predictions to a Pandas dataframe\n",
        "pred_failure_df = pred_failure_type.as_data_frame()\n",
        "failure_test_df = failure_test_subset.as_data_frame()\n",
        "\n",
        "# Merge predictions with actual failure types\n",
        "results_failure = failure_test_df[[\"Failure Type\"]].copy()\n",
        "results_failure[\"Predicted_Failure_Type\"] = pred_failure_df[\"predict\"]\n",
        "print(results_failure.head(10))"
      ],
      "metadata": {
        "colab": {
          "base_uri": "https://localhost:8080/"
        },
        "id": "t0_ux-GeD7uv",
        "outputId": "fb449670-82e7-45d7-dee5-015384f0fc69"
      },
      "execution_count": 9,
      "outputs": [
        {
          "output_type": "stream",
          "name": "stdout",
          "text": [
            "stackedensemble prediction progress: |███████████████████████████████████████████| (done) 100%\n",
            "         Failure Type Predicted_Failure_Type\n",
            "0       Power Failure          Power Failure\n",
            "1       Power Failure          Power Failure\n",
            "2       Power Failure          Power Failure\n",
            "3  Overstrain Failure     Overstrain Failure\n",
            "4  Overstrain Failure     Overstrain Failure\n",
            "5  Overstrain Failure     Overstrain Failure\n",
            "6       Power Failure          Power Failure\n",
            "7   Tool Wear Failure      Tool Wear Failure\n",
            "8       Power Failure          Power Failure\n",
            "9  Overstrain Failure     Overstrain Failure\n"
          ]
        },
        {
          "output_type": "stream",
          "name": "stderr",
          "text": [
            "/usr/local/lib/python3.11/dist-packages/h2o/frame.py:1983: H2ODependencyWarning: Converting H2O frame to pandas dataframe using single-thread.  For faster conversion using multi-thread, install polars and pyarrow and use it as pandas_df = h2o_df.as_data_frame(use_multi_thread=True)\n",
            "\n",
            "  warnings.warn(\"Converting H2O frame to pandas dataframe using single-thread.  For faster conversion using\"\n",
            "/usr/local/lib/python3.11/dist-packages/h2o/frame.py:1983: H2ODependencyWarning: Converting H2O frame to pandas dataframe using single-thread.  For faster conversion using multi-thread, install polars and pyarrow and use it as pandas_df = h2o_df.as_data_frame(use_multi_thread=True)\n",
            "\n",
            "  warnings.warn(\"Converting H2O frame to pandas dataframe using single-thread.  For faster conversion using\"\n"
          ]
        }
      ]
    },
    {
      "cell_type": "markdown",
      "source": [
        "Class Imbalance"
      ],
      "metadata": {
        "id": "lti5nusiR8AY"
      }
    },
    {
      "cell_type": "code",
      "source": [
        "print(train[\"Target\"].table())\n",
        "print(failure_subset[\"Failure Type\"].table())"
      ],
      "metadata": {
        "colab": {
          "base_uri": "https://localhost:8080/"
        },
        "id": "vTN0NX8hIiNb",
        "outputId": "fd8f9c58-8481-4a7a-e2c3-b82924a6f0d9"
      },
      "execution_count": 10,
      "outputs": [
        {
          "output_type": "stream",
          "name": "stdout",
          "text": [
            "  Target    Count\n",
            "       0     7258\n",
            "       1      245\n",
            "[2 rows x 2 columns]\n",
            "\n",
            "Failure Type                Count\n",
            "Heat Dissipation Failure       84\n",
            "Overstrain Failure             62\n",
            "Power Failure                  69\n",
            "Tool Wear Failure              30\n",
            "[4 rows x 2 columns]\n",
            "\n"
          ]
        }
      ]
    },
    {
      "cell_type": "markdown",
      "source": [
        "Class imbalance is present in dataset, we will set balance_classes=True and re-train the model to assess results."
      ],
      "metadata": {
        "id": "1ptZvOG2RkOQ"
      }
    },
    {
      "cell_type": "markdown",
      "source": [
        "Feature Importance:\n",
        "\n",
        "Since feature importance extraction is not directly available for a stacked ensemble model, we will use metalearner to identify which base model contributes the most, to then assess feature importance."
      ],
      "metadata": {
        "id": "88uXMWB1SERh"
      }
    },
    {
      "cell_type": "code",
      "source": [
        "metalearner = best_model.metalearner() # Get the metalearner object using metalearner() method\n",
        "metalearner.varimp_plot() # Call varimp_plot on the metalearner object\n",
        "\n",
        "# Instead of calling best_model.base_models(), directly access the list of base models\n",
        "base_models = best_model.base_models  # Access the base_models attribute\n",
        "\n",
        "# Access a specific base model (e.g., the first one):\n",
        "# Get the model ID of the first base model\n",
        "gbm_model_id = base_models[0]\n",
        "\n",
        "# Get the actual model object using h2o.get_model()\n",
        "gbm_model = h2o.get_model(gbm_model_id)\n",
        "\n",
        "importance_df = gbm_model.varimp(use_pandas=True)  # Converts to Pandas DataFrame\n",
        "print(importance_df)\n",
        "\n",
        "# Get variable importance from the base model:\n",
        "gbm_model.varimp_plot()"
      ],
      "metadata": {
        "colab": {
          "base_uri": "https://localhost:8080/",
          "height": 1000
        },
        "id": "tarZ2PQxWTpY",
        "outputId": "017466f5-2731-4d89-c2ab-6dfbceb523b0"
      },
      "execution_count": 11,
      "outputs": [
        {
          "output_type": "display_data",
          "data": {
            "text/plain": [
              "<Figure size 1400x1000 with 1 Axes>"
            ],
            "image/png": "[encoded data removed]"
          },
          "metadata": {}
        },
        {
          "output_type": "stream",
          "name": "stdout",
          "text": [
            "                  variable  relative_importance  scaled_importance  percentage\n",
            "0              Torque [Nm]           278.279694           1.000000    0.391492\n",
            "1          Tool wear [min]           150.892807           0.542234    0.212280\n",
            "2   Rotational speed [rpm]           135.165329           0.485718    0.190154\n",
            "3      Air temperature [K]           115.901131           0.416492    0.163053\n",
            "4  Process temperature [K]            30.579586           0.109888    0.043020\n"
          ]
        },
        {
          "output_type": "display_data",
          "data": {
            "text/plain": [
              "<Figure size 640x480 with 0 Axes>"
            ]
          },
          "metadata": {}
        },
        {
          "output_type": "display_data",
          "data": {
            "text/plain": [
              "<Figure size 1400x1000 with 1 Axes>"
            ],
            "image/png": "[encoded data removed]"
          },
          "metadata": {}
        },
        {
          "output_type": "execute_result",
          "data": {
            "text/plain": [
              "<h2o.plot._plot_result._MObject at 0x7a3d09a3bfd0>"
            ]
          },
          "metadata": {},
          "execution_count": 11
        },
        {
          "output_type": "display_data",
          "data": {
            "text/plain": [
              "<Figure size 640x480 with 0 Axes>"
            ]
          },
          "metadata": {}
        }
      ]
    },
    {
      "cell_type": "markdown",
      "source": [
        "# Results:\n",
        "\n",
        "Pre-tuning (Occurence):\n",
        "```\n",
        "MSE: 0.0017663739548316906\n",
        "RMSE: 0.042028251865045385\n",
        "LogLoss: 0.010393370383477983\n",
        "AUC: 0.9999789113771714\n",
        "AUCPR: 0.9993890100773136\n",
        "Gini: 0.9999578227543429\n",
        "Null degrees of freedom: 7502\n",
        "Residual degrees of freedom: 7499\n",
        "Null deviance: 2158.5933432232355\n",
        "Residual deviance: 155.96291597447066\n",
        "AIC: 163.96291597447066\n",
        "\n",
        "Confusion Matrix (Act/Pred) for max f1 @ threshold = 0.36372043653410735\n",
        "0\t   7253.0\t  5.0\t 0.0007\t (5.0/7258.0)\n",
        "1\t   1.0\t    244.0\t0.0041\t (1.0/245.0)\n",
        "\n",
        "```\n",
        "\n",
        "Pre-tuning (Failure Type):\n",
        "```\n",
        "MSE: 0.002144663761256737\n",
        "RMSE: 0.04631051458639536\n",
        "LogLoss: 0.019254489178613925\n",
        "Mean Per-Class Error: 0.0\n",
        "```\n",
        "Proposed changes to model for optimization:\n",
        "\n",
        "Hyperparameter Tuning: Remove max_runtime_secs to allow indefinite time for deeper optimization, and change stopping_metric=\"AUC\" to prioritize classification performance for imbalanced data.\n",
        "\n",
        "Class Imbalance: Set balance_classes = True\n",
        "\n",
        "Feature Importance: Drop Type to avoid unnecesary noise.\n",
        "\n",
        "The Filure Type model works well, no need to further optimize.\n",
        "\n",
        "Post-tuning (Occurence):\n",
        "\n",
        "```\n",
        "MSE: 0.0024561045663572508\n",
        "RMSE: 0.04955910175091202\n",
        "LogLoss: 0.01235501815242331\n",
        "AUC: 0.9998481619156342\n",
        "AUCPR: 0.9954264596905618\n",
        "Gini: 0.9996963238312684\n",
        "Null degrees of freedom: 7502\n",
        "Residual degrees of freedom: 7492\n",
        "Null deviance: 2158.5933432232355\n",
        "Residual deviance: 185.39940239526413\n",
        "AIC: 207.39940239526413\n",
        "\n",
        "Confusion Matrix (Act/Pred) for max f1 @ threshold = 0.48968290312358936\n",
        "0\t7244.0\t  14.0\t 0.0019\t(14.0/7258.0)\n",
        "1\t 2.0\t    243.0\t0.0082\t(2.0/245.0)\n",
        "```\n",
        "\n",
        "Final Selection: For the project, the model selection for the failure occurence is the one tuned because the model has significantly high result parameters while dealing with class imbalance. In addition, the feature importance of the tuned model aligns with real-life values when it comes to motor parameters and maintenance.\n"
      ],
      "metadata": {
        "id": "r0AM568IYpi3"
      }
    },
    {
      "cell_type": "markdown",
      "source": [
        "Save models for solution use"
      ],
      "metadata": {
        "id": "TLl4xTDpsAK2"
      }
    },
    {
      "cell_type": "code",
      "source": [
        "# Ensure models are correctly assigned\n",
        "model_occ = aml_occ.leader\n",
        "model_fail = aml_fail.leader\n",
        "\n",
        "# Save MOJO models\n",
        "model_path_occ = model_occ.save_mojo(path=\"failure_occurrence_model.zip\", force=True)\n",
        "model_path_fail = model_fail.save_mojo(path=\"failure_type_model.zip\", force=True)\n",
        "\n",
        "# Mount Google Drive for saving\n",
        "drive.mount('/content/drive')\n",
        "\n",
        "# Define Drive paths\n",
        "model_drive_path_occ = \"/content/drive/MyDrive/failure_occurrence_model.zip\"\n",
        "model_drive_path_fail = \"/content/drive/MyDrive/failure_type_model.zip\"\n",
        "\n",
        "# Save models in Drive\n",
        "model_occ.save_mojo(path=model_drive_path_occ, force=True)\n",
        "model_fail.save_mojo(path=model_drive_path_fail, force=True)\n",
        "\n",
        "# Print confirmation\n",
        "print(f\"Occurrence model saved at: {model_drive_path_occ}\")\n",
        "print(f\"Failure type model saved at: {model_drive_path_fail}\")"
      ],
      "metadata": {
        "colab": {
          "base_uri": "https://localhost:8080/"
        },
        "id": "-fR4vNtUDcRd",
        "outputId": "8ddd543a-dfee-43a9-f138-e4259f5b6c08"
      },
      "execution_count": 12,
      "outputs": [
        {
          "output_type": "stream",
          "name": "stdout",
          "text": [
            "Mounted at /content/drive\n",
            "Occurrence model saved at: /content/drive/MyDrive/failure_occurrence_model.zip\n",
            "Failure type model saved at: /content/drive/MyDrive/failure_type_model.zip\n"
          ]
        }
      ]
    },
    {
      "cell_type": "markdown",
      "source": [
        "#Predicting occurence and failure type"
      ],
      "metadata": {
        "id": "zHlSdP33s7Q3"
      }
    },
    {
      "cell_type": "markdown",
      "source": [
        "Load models"
      ],
      "metadata": {
        "id": "iZZw0Z2MI_Km"
      }
    },
    {
      "cell_type": "code",
      "source": [
        "# Define the paths based on the uploaded files\n",
        "model_occ_path = \"/content/drive/MyDrive/failure_occurrence_model.zip\"\n",
        "model_fail_path = \"/content/drive/MyDrive/failure_type_model.zip\"\n",
        "\n",
        "# Load models from local Colab storage\n",
        "model_occ = h2o.import_mojo(model_occ_path)\n",
        "model_fail = h2o.import_mojo(model_fail_path)"
      ],
      "metadata": {
        "colab": {
          "base_uri": "https://localhost:8080/"
        },
        "id": "QZzt0vrNtDj8",
        "outputId": "1bea5532-dd02-49e7-c55a-93aa94469f4f"
      },
      "execution_count": 15,
      "outputs": [
        {
          "output_type": "stream",
          "name": "stdout",
          "text": [
            "generic Model Build progress: |██████████████████████████████████████████████████| (done) 100%\n",
            "generic Model Build progress: |██████████████████████████████████████████████████| (done) 100%\n"
          ]
        }
      ]
    },
    {
      "cell_type": "markdown",
      "source": [
        "Drop down menu for type selection"
      ],
      "metadata": {
        "id": "_FszDZKgJBqB"
      }
    },
    {
      "cell_type": "code",
      "source": [
        "# Create dropdown widget\n",
        "size_dropdown = widgets.Dropdown(options=['Select motor type', 'H', 'L', 'M'], value='Select motor type', description='Type:')\n",
        "\n",
        "# Display dropdown\n",
        "display(size_dropdown)\n",
        "\n",
        "# User selection\n",
        "def on_change(change):\n",
        "    global selected_size\n",
        "    selected_size = change.new\n",
        "    size_dropdown.disabled = True\n",
        "    print(f\"Selected type: {selected_size}\")\n",
        "\n",
        "size_dropdown.observe(on_change, names='value')"
      ],
      "metadata": {
        "colab": {
          "base_uri": "https://localhost:8080/",
          "height": 66,
          "referenced_widgets": [
            "bb84746215f344438e13aac4e089f738",
            "2f39fb9cc54042558e3d40bf23c5d582",
            "0b53e5dbc1514b7bb679491a2c314c04"
          ]
        },
        "id": "ofuHj8qAyT0V",
        "outputId": "878ba8a6-98e4-4470-c6b2-ce88bb43795b"
      },
      "execution_count": 92,
      "outputs": [
        {
          "output_type": "display_data",
          "data": {
            "text/plain": [
              "Dropdown(description='Type:', options=('Select motor type', 'H', 'L', 'M'), value='Select motor type')"
            ],
            "application/vnd.jupyter.widget-view+json": {
              "version_major": 2,
              "version_minor": 0,
              "model_id": "bb84746215f344438e13aac4e089f738"
            }
          },
          "metadata": {}
        },
        {
          "output_type": "stream",
          "name": "stdout",
          "text": [
            "Selected type: M\n"
          ]
        }
      ]
    },
    {
      "cell_type": "markdown",
      "source": [
        "Parameters input"
      ],
      "metadata": {
        "id": "IULplamYJF8-"
      }
    },
    {
      "cell_type": "code",
      "source": [
        "# Initialize empty input list\n",
        "input_values = []\n",
        "\n",
        "# Sequential user input prompts\n",
        "print(\"Enter current motor parameters\\n\")\n",
        "input_values.append(float(input(\"Torque [Nm]: \")))\n",
        "input_values.append(float(input(\"Air Temperature [K]: \")))\n",
        "input_values.append(float(input(\"Process Temperature [K]: \")))\n",
        "input_values.append(float(input(\"Rotational Speed [rpm]: \")))\n",
        "input_values.append(float(input(\"Tool Wear [min]: \")))"
      ],
      "metadata": {
        "colab": {
          "base_uri": "https://localhost:8080/"
        },
        "id": "Rz2dEUkS3Ryf",
        "outputId": "75c1752f-aed4-4db3-f160-250628e247df"
      },
      "execution_count": 93,
      "outputs": [
        {
          "name": "stdout",
          "output_type": "stream",
          "text": [
            "Enter current motor parameters\n",
            "\n",
            "Torque [Nm]: 19.8\n",
            "Air Temperature [K]: 300.7\n",
            "Process Temperature [K]: 309.6\n",
            "Rotational Speed [rpm]: 1996\n",
            "Tool Wear [min]: 203\n"
          ]
        }
      ]
    },
    {
      "cell_type": "markdown",
      "source": [
        "Creating a dataframe of input parameters to use for predictions. User_df dataframe contains the motor parameters, entered by the user, to be predicted. In a real-life scenario, the model would use sensor (or historized) values in a time-series to predict failure occurence and failure type."
      ],
      "metadata": {
        "id": "gbuxI6RoJJFd"
      }
    },
    {
      "cell_type": "code",
      "source": [
        "# Define feature names (including dropdown selection)\n",
        "feature_names = [\"Torque [Nm]\", \"Air temperature [K]\", \"Process temperature [K]\", \"Rotational speed [rpm]\", \"Tool wear [min]\"]\n",
        "\n",
        "\n",
        "# Create a Pandas DataFrame with user input\n",
        "user_df = pd.DataFrame([input_values], columns=feature_names)\n",
        "\n",
        "# Convert to H2OFrame for model predictions\n",
        "user_h2o = h2o.H2OFrame(user_df)\n",
        "\n",
        "user_df.head()"
      ],
      "metadata": {
        "colab": {
          "base_uri": "https://localhost:8080/",
          "height": 98
        },
        "id": "opkEtWDA4c6x",
        "outputId": "98ba5cd2-baa2-4301-b4ab-6626b7088d0f"
      },
      "execution_count": 94,
      "outputs": [
        {
          "output_type": "stream",
          "name": "stdout",
          "text": [
            "Parse progress: |████████████████████████████████████████████████████████████████| (done) 100%\n"
          ]
        },
        {
          "output_type": "execute_result",
          "data": {
            "text/plain": [
              "   Torque [Nm]  Air temperature [K]  Process temperature [K]  \\\n",
              "0         19.8                300.7                    309.6   \n",
              "\n",
              "   Rotational speed [rpm]  Tool wear [min]  \n",
              "0                  1996.0            203.0  "
            ],
            "text/html": [
              "\n",
              "  <div id=\"df-a1848cc7-7e6b-4e94-a9ec-80f8a331ac07\" class=\"colab-df-container\">\n",
              "    <div>\n",
              "<style scoped>\n",
              "    .dataframe tbody tr th:only-of-type {\n",
              "        vertical-align: middle;\n",
              "    }\n",
              "\n",
              "    .dataframe tbody tr th {\n",
              "        vertical-align: top;\n",
              "    }\n",
              "\n",
              "    .dataframe thead th {\n",
              "        text-align: right;\n",
              "    }\n",
              "</style>\n",
              "<table border=\"1\" class=\"dataframe\">\n",
              "  <thead>\n",
              "    <tr style=\"text-align: right;\">\n",
              "      <th></th>\n",
              "      <th>Torque [Nm]</th>\n",
              "      <th>Air temperature [K]</th>\n",
              "      <th>Process temperature [K]</th>\n",
              "      <th>Rotational speed [rpm]</th>\n",
              "      <th>Tool wear [min]</th>\n",
              "    </tr>\n",
              "  </thead>\n",
              "  <tbody>\n",
              "    <tr>\n",
              "      <th>0</th>\n",
              "      <td>19.8</td>\n",
              "      <td>300.7</td>\n",
              "      <td>309.6</td>\n",
              "      <td>1996.0</td>\n",
              "      <td>203.0</td>\n",
              "    </tr>\n",
              "  </tbody>\n",
              "</table>\n",
              "</div>\n",
              "    <div class=\"colab-df-buttons\">\n",
              "\n",
              "  <div class=\"colab-df-container\">\n",
              "    <button class=\"colab-df-convert\" onclick=\"convertToInteractive('df-a1848cc7-7e6b-4e94-a9ec-80f8a331ac07')\"\n",
              "            title=\"Convert this dataframe to an interactive table.\"\n",
              "            style=\"display:none;\">\n",
              "\n",
              "  <svg xmlns=\"http://www.w3.org/2000/svg\" height=\"24px\" viewBox=\"0 -960 960 960\">\n",
              "    <path d=\"M120-120v-720h720v720H120Zm60-500h600v-160H180v160Zm220 220h160v-160H400v160Zm0 220h160v-160H400v160ZM180-400h160v-160H180v160Zm440 0h160v-160H620v160ZM180-180h160v-160H180v160Zm440 0h160v-160H620v160Z\"/>\n",
              "  </svg>\n",
              "    </button>\n",
              "\n",
              "  <style>\n",
              "    .colab-df-container {\n",
              "      display:flex;\n",
              "      gap: 12px;\n",
              "    }\n",
              "\n",
              "    .colab-df-convert {\n",
              "      background-color: #E8F0FE;\n",
              "      border: none;\n",
              "      border-radius: 50%;\n",
              "      cursor: pointer;\n",
              "      display: none;\n",
              "      fill: #1967D2;\n",
              "      height: 32px;\n",
              "      padding: 0 0 0 0;\n",
              "      width: 32px;\n",
              "    }\n",
              "\n",
              "    .colab-df-convert:hover {\n",
              "      background-color: #E2EBFA;\n",
              "      box-shadow: 0px 1px 2px rgba(60, 64, 67, 0.3), 0px 1px 3px 1px rgba(60, 64, 67, 0.15);\n",
              "      fill: #174EA6;\n",
              "    }\n",
              "\n",
              "    .colab-df-buttons div {\n",
              "      margin-bottom: 4px;\n",
              "    }\n",
              "\n",
              "    [theme=dark] .colab-df-convert {\n",
              "      background-color: #3B4455;\n",
              "      fill: #D2E3FC;\n",
              "    }\n",
              "\n",
              "    [theme=dark] .colab-df-convert:hover {\n",
              "      background-color: #434B5C;\n",
              "      box-shadow: 0px 1px 3px 1px rgba(0, 0, 0, 0.15);\n",
              "      filter: drop-shadow(0px 1px 2px rgba(0, 0, 0, 0.3));\n",
              "      fill: #FFFFFF;\n",
              "    }\n",
              "  </style>\n",
              "\n",
              "    <script>\n",
              "      const buttonEl =\n",
              "        document.querySelector('#df-a1848cc7-7e6b-4e94-a9ec-80f8a331ac07 button.colab-df-convert');\n",
              "      buttonEl.style.display =\n",
              "        google.colab.kernel.accessAllowed ? 'block' : 'none';\n",
              "\n",
              "      async function convertToInteractive(key) {\n",
              "        const element = document.querySelector('#df-a1848cc7-7e6b-4e94-a9ec-80f8a331ac07');\n",
              "        const dataTable =\n",
              "          await google.colab.kernel.invokeFunction('convertToInteractive',\n",
              "                                                    [key], {});\n",
              "        if (!dataTable) return;\n",
              "\n",
              "        const docLinkHtml = 'Like what you see? Visit the ' +\n",
              "          '<a target=\"_blank\" href=https://colab.research.google.com/notebooks/data_table.ipynb>data table notebook</a>'\n",
              "          + ' to learn more about interactive tables.';\n",
              "        element.innerHTML = '';\n",
              "        dataTable['output_type'] = 'display_data';\n",
              "        await google.colab.output.renderOutput(dataTable, element);\n",
              "        const docLink = document.createElement('div');\n",
              "        docLink.innerHTML = docLinkHtml;\n",
              "        element.appendChild(docLink);\n",
              "      }\n",
              "    </script>\n",
              "  </div>\n",
              "\n",
              "\n",
              "    </div>\n",
              "  </div>\n"
            ],
            "application/vnd.google.colaboratory.intrinsic+json": {
              "type": "dataframe",
              "variable_name": "user_df",
              "summary": "{\n  \"name\": \"user_df\",\n  \"rows\": 1,\n  \"fields\": [\n    {\n      \"column\": \"Torque [Nm]\",\n      \"properties\": {\n        \"dtype\": \"number\",\n        \"std\": null,\n        \"min\": 19.8,\n        \"max\": 19.8,\n        \"num_unique_values\": 1,\n        \"samples\": [\n          19.8\n        ],\n        \"semantic_type\": \"\",\n        \"description\": \"\"\n      }\n    },\n    {\n      \"column\": \"Air temperature [K]\",\n      \"properties\": {\n        \"dtype\": \"number\",\n        \"std\": null,\n        \"min\": 300.7,\n        \"max\": 300.7,\n        \"num_unique_values\": 1,\n        \"samples\": [\n          300.7\n        ],\n        \"semantic_type\": \"\",\n        \"description\": \"\"\n      }\n    },\n    {\n      \"column\": \"Process temperature [K]\",\n      \"properties\": {\n        \"dtype\": \"number\",\n        \"std\": null,\n        \"min\": 309.6,\n        \"max\": 309.6,\n        \"num_unique_values\": 1,\n        \"samples\": [\n          309.6\n        ],\n        \"semantic_type\": \"\",\n        \"description\": \"\"\n      }\n    },\n    {\n      \"column\": \"Rotational speed [rpm]\",\n      \"properties\": {\n        \"dtype\": \"number\",\n        \"std\": null,\n        \"min\": 1996.0,\n        \"max\": 1996.0,\n        \"num_unique_values\": 1,\n        \"samples\": [\n          1996.0\n        ],\n        \"semantic_type\": \"\",\n        \"description\": \"\"\n      }\n    },\n    {\n      \"column\": \"Tool wear [min]\",\n      \"properties\": {\n        \"dtype\": \"number\",\n        \"std\": null,\n        \"min\": 203.0,\n        \"max\": 203.0,\n        \"num_unique_values\": 1,\n        \"samples\": [\n          203.0\n        ],\n        \"semantic_type\": \"\",\n        \"description\": \"\"\n      }\n    }\n  ]\n}"
            }
          },
          "metadata": {},
          "execution_count": 94
        }
      ]
    },
    {
      "cell_type": "code",
      "source": [
        "pred_occ = model_occ.predict(user_h2o)\n",
        "failure_occurrence = pred_occ.as_data_frame()[\"predict\"][0]\n",
        "\n",
        "if failure_occurrence == 0:\n",
        "    occurence_outcome = \"No failure predicted\"\n",
        "else:\n",
        "    occurence_outcome = \"Failure detected\""
      ],
      "metadata": {
        "colab": {
          "base_uri": "https://localhost:8080/"
        },
        "collapsed": true,
        "id": "Y-cjYgMP7QPG",
        "outputId": "16289eb8-b91d-47a2-e6cd-6e0ba6bafa71"
      },
      "execution_count": 95,
      "outputs": [
        {
          "output_type": "stream",
          "name": "stdout",
          "text": [
            "generic prediction progress: |███████████████████████████████████████████████████| (done) 100%\n"
          ]
        },
        {
          "output_type": "stream",
          "name": "stderr",
          "text": [
            "/usr/local/lib/python3.11/dist-packages/h2o/frame.py:1983: H2ODependencyWarning: Converting H2O frame to pandas dataframe using single-thread.  For faster conversion using multi-thread, install polars and pyarrow and use it as pandas_df = h2o_df.as_data_frame(use_multi_thread=True)\n",
            "\n",
            "  warnings.warn(\"Converting H2O frame to pandas dataframe using single-thread.  For faster conversion using\"\n"
          ]
        }
      ]
    },
    {
      "cell_type": "code",
      "source": [
        "if failure_occurrence == 1:\n",
        "    pred_fail_type = model_fail.predict(user_h2o)\n",
        "    df_fail = pred_fail_type.as_data_frame()\n",
        "    df_fail_sorted = df_fail.iloc[:, 1:].T.sort_values(by=0, ascending=False)\n",
        "    failure_type_outcome_1 = df_fail_sorted.index[0]\n",
        "    failure_type_outcome_2 = df_fail_sorted.index[1]"
      ],
      "metadata": {
        "colab": {
          "base_uri": "https://localhost:8080/"
        },
        "collapsed": true,
        "id": "d8iYT6Nx7qlY",
        "outputId": "6723d87b-7a3b-4206-f9cc-010ed097f1c7"
      },
      "execution_count": 96,
      "outputs": [
        {
          "output_type": "stream",
          "name": "stdout",
          "text": [
            "generic prediction progress: |███████████████████████████████████████████████████| (done) 100%\n"
          ]
        },
        {
          "output_type": "stream",
          "name": "stderr",
          "text": [
            "/usr/local/lib/python3.11/dist-packages/h2o/frame.py:1983: H2ODependencyWarning: Converting H2O frame to pandas dataframe using single-thread.  For faster conversion using multi-thread, install polars and pyarrow and use it as pandas_df = h2o_df.as_data_frame(use_multi_thread=True)\n",
            "\n",
            "  warnings.warn(\"Converting H2O frame to pandas dataframe using single-thread.  For faster conversion using\"\n"
          ]
        }
      ]
    },
    {
      "cell_type": "code",
      "source": [
        "if failure_occurrence == 1:\n",
        "  print(\"Motor shows signs of failure, possible causes are: \" + failure_type_outcome_1 + ' or ' + failure_type_outcome_2)\n",
        "else:\n",
        "  print(occurence_outcome)"
      ],
      "metadata": {
        "colab": {
          "base_uri": "https://localhost:8080/"
        },
        "id": "bxreiRHXEmhC",
        "outputId": "b1532518-3b58-4f36-ac8b-d07575753af4"
      },
      "execution_count": 97,
      "outputs": [
        {
          "output_type": "stream",
          "name": "stdout",
          "text": [
            "Motor shows signs of failure, possible causes are: Tool Wear Failure or Overstrain Failure\n"
          ]
        }
      ]
    },
    {
      "cell_type": "markdown",
      "source": [
        "**Final model prediction:**\n",
        "\n",
        "5 set of parameters were randomly selected and manually entered as inputs to predict failure occurence and type using model.\n",
        "\n",
        "Below results:\n",
        "\n",
        "![image.png](data:image/png;base64,iVBORw0KGgoAAAANSUhEUgAABFAAAACNCAIAAAAfChmJAAAgAElEQVR4Ae1dwZnjLAxNS3NNI9NBitgqcp8+cthO9svl72T+T4CkJxCJE8cOjjWHNQYhpPeEAMfJHv6Lv0AgEAgEAoFAIBAIBAKBQCAQCAQ+FIHDf//99y/+AoFAIBAIBAKBQCAQCAQCgUAgEPhEBOLA84mshk+BQCAQCAQCgUAgEAgEAoFAIJAQiANPBEIgEAgEAoFAIBAIBAKBQCAQCHwsAnHg+Vhqw7FAIBAIBAKBQCAQCAQCgUAgEIgDT8RAIBAIBAKBQCAQCAQCgUAgEAh8LAJx4PlYasOxhRH4+T4cvn9gkKYC2h4ukjL5+zLjPKwrOgQCgUAg0CBgkkyVzRrh9Sr+/vmymfXfP6qSv6/vP39fZo0z2Mt0h6LFEUiB8fXCeGgtdiMkArIFagM1ceDZAElh4pAINOebpmKO2T/fB07jf/98H+Rmjs45ff/++f7z87ptxhxTom8gEAi8AgFIMq9Q19fxWPZwdphUVfLhX8qznBv7Q05tMYM9ZufUIUJuMQRSXHx93Q+HGcyaCGFPIiAZiU1d48CzKbrC2IEQaM43TcUcY81e5KWan7PK2POciugVCAQCIyGw2qR+bCBnhwn7y/xxz8s+8zaDPWbnSFTu05ZM3hTWpsh0MDQRwjIRkIzEpq5x4NkUXWHsQAg0pxCo+Pvnu7yCga9f/P3R2vJpSUqmf1K9XcJNggbN/4pqUg+6Gz13xUp/sQmVVXaScv5LVkqnw9d3xxEfgYHoC1MCgb0jYJJMBgOqUk75+fcvZx/OCfh6rZMH/v3DSnrVaEr2IKmSG7++//z4r7TJY3w2LFmMw/FH0KIMUiTmUDwzibLaTk/J3gNmMP+ZOwhashBDwonAXiRIEHprK767nsbQjxwxmqrRIyAHi5g48AxGSJizGQRs3vzHGwNKebBg/3zzmYBq4a2MXEyrLEnUb4tBDsdX2mgV5pMRDlPpuS1W3k0jB+TEot64dtKuhzccroA1gO7YTEVgM9SGoYHAHhBIGYAfZZQJy1OXrzmv8eRP75OVmU0SbkKDyqJ0SvaQ9JKs4uxRaKjGkuRS1ScdajnZzulXExypVBkt5RTOxkcGG34GKHUQX4laJlFJBwmtrCOhv7ZW4ZgDqB2lqY+AHCuK4sAzFh9hzXYQsHkTDzzpmehX9ZUXzc7kIudfWwvOk3b5kzMOCPz9S5uPknNhAQcRKt4QM2PLjRSSIhlCCtVQXG+7uQhUlsVtIBAIvBUBnrzWiL9/vr6+v7/lUGETndzZGV9U2UrRqwNZAb+XlUlKqEr+OOnhuYWkeBQysU6/KSPptlWH0BJoKNm8USIOReH9CCBzTH0dEmKlCnQjQWRvLZosFAHJSGzqGgeeTdEVxg6EgKz8bBNW/P358/1lPhqn1sMX/1GZP23XZZg12aUXavnj+rQjoQF47cfkT/L5U/3bYqaP3Ph2ymaCH/jedaRFwPgRN4FAIPBmBGAXaCyhHKAPWTCvwYbSTRRWVpTqQFN6SS6S/vjYHsuutpT+6vTb3eaawdROX4kaFKV3I0DEmb+8Ft6NwG4kTFo02WsaHRffUo6AZIDGvMaBZ0xewqrxEcCUR9bW98kD/RSGmtujjV/bPfBYcViebYO964kZKbmRgmVAlfgCfm0+esnKYFXGXSAQCLwTAZ3UaEWayt/f8tNXdgspd+6Mdyv1sxc4LzUj6rckHCVUxftLUOdIol7awnI3sTsJaEct9bIuKDHK4+adCNiI0JgwfKqBGgi9A4/tCPK2oai0w4u0K6tWREACFu8oxoHnHajHmB+BACW3g3xpnxbUsiTTOyH08Q396Tqbc2Gupo8/0itv3QQpKdRAheK0DvOI1Xtm08RQChTk6spO8oN9cgWMMtLG0oCAcSVuAoFA4L0IwKQWQ2QiSyPlGc5zKemU5zbdPMBTX1RNyh7Sq4wnFlGBVLEAHkw8G/zkgxry59/ZDTUS9UYGM/CPd4N0JuukQgolbDLNEs02liASMBBurK0FChwFAydrsatnBOQw8RMHnmGoCEM2iID+ks/h6+uPPqPMP2lE77Rhtf56jPx6EGZZ4z8k6Ko+vSj39fX1/fOnPoSoJBtwS8yMjTeOnXmZSBuf/KkNv07AP+6G/ckMNsAioAZGKRAIBN6MQDpa6GtB3z/w3EM3hiT1/Ud+RY0f5fh5gN+mTVr1tThKDzeyBw02/Vfa1LSODX7yybX51ynhh+DyyOU0BXb6St7MWAyfESCe4ABMlVpl1i9elIHZsjg1kcCMV4tmiU07nI6WDIJbM3qZLKzZroYRkKuHcxx4Voc8BgwEAoFAIBAIBLaBQDrw8L5xGyaHlYFAIBAINAjEgaeBJCoCgUAgEAgEAoFAgBCIA0/EQSAQCHwCAnHg+QQWw4dAIBAIBAKBQGABBOLAswCooTIQCARWRyAOPKtDHgMGAoFAIBAIBAKBQCAQCAQCgcBaCMSBZy2kY5xAIBAIBAKBQCAQCAQCgUAgEFgdgTjwrA55DBgIBAKBQCAQCAQCgUAgEAgEAmshEAeetZCOcQKBQCAQCAQCgUAgEAgEAoFAYHUE4sCzOuQxYCAQCAQCgUAgEAgEAoFAIBAIrIVAHHjWQjrGCQQCgUAgEAgEAoFAIBAIBAKB1RGIA8/qkMeAgUAgEAgEAoFAIBAIBAKBQCCwFgJy4Pn75+tQ/339+bugHWlEO8Tfnz/fP0uOuaA7r1bNhGSEfr4PClVq+v75Z0VuGUD/k4L8fX3H/5p9C6yF2ixbMwn9J+QnWr++Xz9VF5iMBMF7gq8d2dLxKs4na2VBmZWHA8zwV5kzTQ/bIqnmYFmi9sm0WWWtAdw+1/GHjGrNeLaGzddsfE/T3Xk0QSWLzAXtnq0T2s1Sci9mwffX8jUQIBMwmy4ykF9B9HTaQnIrCMiBhw1+bV5irc6VBvr6+jILx5T/4ezvn+8/Qx6KXmyYJQL2xwk43d9Ci4NyqQKhv3++7y1TfT1LtLwYt9eZ+GLDXkpoPvCUyfOX5o2ZSB4IU9xBmSmT0RvnRp2F4Ibgy5vakdualw0Ks+2uzgXNuDs2C1gbykYHTji2nXvduk5A4HGldsC5/a22yXePDzttHk1A7F+e9EDMZKunC2IGcHtNM7R0Bd8fB84dvqpcRms1yBtul/criH4DrTHkuxF424Enz+iHsmfG6oku64D8YsNsyhPlsIQ8gId0pz6NinXw6Y1ibOsJvaP+xYa9lFBz4Jm2EZrizhSZGVRYCGYoerhrO3Jb87DSXodHUFzQjJ55Tb21gaz//v6CE7Rtb7o7FRMQeFypHWduf6tt8t1Sw05A7DUHHnLgxsORu3bcFehAuQxwy2jtuLBi9Qv8CqJX5CuG2ggCtw88ds6USZj3yz/f+RU4fD/qL1cevu69mcYT2qZPuEsCf5JCfaRFlfyXap0RoSO9JfL9568IyYs/D7kACrMlf/8k38kU1lgZZo8USUF6i6xV1UdMe1EoZWTSMApHijHArB9zRkita+z5V3wjkJFDgVA8ptXXMV77MzRpmS7Bgr2TscmhwmgQmvkzXPUpJehk45KIlBcVlQQmscX5bgyXkGMDWp2y/5KmlnKcIyLPKvkq/SE8HpqhfihqLH99//lp3soykKUbzTa90UGsm1tksrJ7t6/GjCyqeDB9DJ1aCC4b73Ruky5U7s3WYhqKYarh8IL2VMxmzEQAlDJCruPJDc4fNSAS8uwtmiyv4elQLghlWC9WEfBspepifO+hAfM5dxY3Yb5Us40Rqa9m9NQ40fifb3qb4uvrC99WrNEg7fxXrTJqCLijlTzXKgzRKzS9F6VJBjGvLYQRcxG1pnDnAJDg781lmEEQVc0Ab6owfiUbgmiZz68gWiYhLDpv4jqGXRGB2wceE1k8BymD8FYrvUxTciO1l3RD1Zp5HHdYFy+vRQS6kURKRPVXeiqZZsTcsbz1lm0tpy9Nsw+5UFlCM4VXA3XDbnN0JHJMpRpVNxDTXqSDvLaPXRlVwIOr2isI4Sttrj3lfUFqY3ChKK5hO6tHm38IJiLPrQQTuXMR5TGlmvofvoJQgIyKFf6yGuT6lkS7+bgfw1aeYqHVmanhhxsSGmn7480Rkud6dgfrJGZo8OlJJrucEoVmHqiko/kBd3qMn9hCwpBtbo0uQGShJrfYTMBedq/oPpt1E+qcD3vekVHiFUw9kFeI2ChrA088VQXtVHwNAqA02UH3Pcd79eqpqMhVf/+kzb3cZEzyEE2c+HMhe/r98zcD7mKVZW6npnoe6e5aAZ4cMzQgOt1bjCrjmVIzDsk0yRatZZftNYU9H4uKgp4ZqA1NN55XUQrT0LfQmINaTU4Urcle8JPxm6DcjLTujfWLPJsUpUF0ftc/JfwyUTyiEV5ddNalOEZ7BwJ3DjxwIJEYsdlK7qQ9uQEzz3ELZVESyihiNKiMFeF6U9u5EaPZVl0QdTlxFaIpf+mzI14zAKlU5LxqdvzGHEnJWSeqohorm1rdb9/U/dBCKaesz6uUnNeqMeyI6kVdn7TaSjaCxpHdCY/uVnIj4ubrNLWdm90RmuODGdUgrChVEhFnxf5fP4Zhs2JAz5smb8JADxnB6q8VJTE3PB4h1GotoWgrG1iq+VVJd0a3Wkwfc8OzQVC4UTAdK6v6UHd7WctFTAqMeNkBZsN6rawM2qFYGWtaJiBg5Ctd4HglRjHmxl7yRIR/vr/+/Px8Z0m+SqsLwr9qLljpDFSdlo1M7wawMCJ2RoKUjNUWKgUgcGui0fEvbwQBZ6tKhpcC6DbF2wLWDMwIOJ6QmDRri5aowd7541oZgFQa7FhyJ+3JBF+58XvdG2sejm0RtnJBtHzke4doam42KghzlD8TgbsHHslZvGzokpMQkRlHIZR+haB8cg6bsBo66mP+OB1D3hG9dWeV8Uc0HTs3MhumuGB0UB5Ob3J9fX1/f39/yUMyyLWpOOHA49vP/tphi9dUCZpJVvHgns61I2THsHe64Fi0ivae8fS7PPTihPmk2K1kM9U2X6cxq3NjTRShCQo3Smhmh+cNOVzK4nuBV+8V50kxDIGlOrJSuZdCrtcROnOkkucIcMLjEUJdlq2CavNEAxtbzM3E+Wv6mBvFgT3sX03Hyiq00sp1vbMN0smFSIwSsVSD1md10A7FyljTgjpkGFsw8pUucLwSU9rqhqS97PjyWmVuyhnKWaEejFX8jMXY0LsBLIyITd0gZXEyd5WC7kSu5EC5FDshIe1mXLhxBToYQg5R4uA0m9WqsVqilo6FYEsbNjLiC7crZsCVbiwS/UWqkgNypNiBUdp7HrkCn0O0s+j0kIj6z0Hg/oGnpBBJICkPmc9B+k/cfJxokvJWjSR0ZmnJ5EejRmWqyV6kTG3nJq/jrFbujDS3VpZYGTUG3agg0i5aIu32TsYrBdsqA1G1OfJIS60A7ztCdgx7lxccIrquT4rdShjSfPjF9W6l2ubrNLWdG6EwjSR3RpqNqPyxMmrM2IRmVnQWid3WHSUR3bEy0tVMxb486LSKZCLbatBvG4QQLkB4CIUTCHW1VpXVbT37qubO6DZyTB9zAx6za92r6djONbHEytk7sEvk04AiJgXXDttqrKem9C4tvB8iyd/0MzdGhzsm2GxNLdLsiFGLe+W6IfdLA//8yR9ipxPPj3y84fawlWC3bRAfTPWkm75OaJG5IwO5BTNgHS2grpJLYJezHr+AWouU8UCJa4FnqFWFGqCMQkxuHkFbtEQt9s63ppXJQ75wu+IPvHBt5Ze97aDKmAXR9/OE0geLjlZG6VMRmHDgSSnuS98dpmx1KGmTooW333lSllfMf/o/Hk1yulMriS1X3JjJQkAjU41ockPn5iEXjA6ThZP34kplGNfnZyJ5k2BVFV2V/eyolQXlxAcAiC3ct7l2hOwYyR42G29IjOulSy5Y4/EjdYkMtxIsBNs8nQbx3s3uCK0PPLoPQbKQRJUwIHZjGOSNGryRYMh0MpNYbfRjA0eAHx5PEGpDEc2c9h0e2cfnE10/xRXLjTPmhnFgF29dTUeTDO1NJUe3MiXhp11u1ctWt07OVndlPTXqF6CMaP+m0uEBYDpbX01wkxx7iqTW/csYNLL8ZwfmhnfQNk5Qzd1YLWZKpGDnZJvXAlgYeXykYMseXLmuUoC3N4zHKaa6c2eLxgQ7wB3W1TWjziEMD3VgTp9dH11AqDKTzrsSup21XWEn170ipFXUBdGFihlE44yQjcq6DMdob0FgyoEn5wxOUOnu+0/+lSfcefPn6+llNfwBGusYJrvSIlWQTKsZDzqohVfgnC3NiKZj5ybF+FQXjI6UUNMbW19fX98/f+A7PGnFY8PgB8zgF6JqVfBDZ+YVMPLWygIy5fEF82FbACcsdoTsGHlU5weRKmb5PVkH/H/Zb3qn7evrDwu6lWoeWcG4OTqNkZ2b3RFq9oSZONhD8OSsfmpPcWZGbsWwjRn61myaZ6jTsIGbpZ7+rIVDt4QAC2PMPERoFZ/6dYVisvkdM447Y7u5SY4cvBRnxPo3Fjke0L8aLVlkCtTEv+9dRjO/U4q/TefMLLbI2tBYT828fzSi/ZtGBw+lV9P5huMpFTqxVwCoYilzJ5UURnJDmgQdzbccftVccOwjK031pBvAwsjjfLFlBakuVQqom7sYVXJ0K3+amD00zCpWD0/34I42d8wwwmbuCw9mblZm+3zpqDUdpYVIV9YfzCRG+/tuGiQ6CFdyQbRkRV4F7sx6XHTeR3eMvBYCzYHHG5imkS4bKYPwXtYTH79uCy5UqawLqrsAdaU/tCEI/TBilyf01vyaOfrqU/KWLxMCY2Z3Z4TVEXBsWKbq9VhlO5dEzPwOFX1AoIv5MiC9VytRpB7OnMvvdeXB0YPobe9LH6Q7xB9HYMqBp0oZ1e3jY76/xxZcyGn756f8GLAL2t+fH3qIq9ndldpBZRD6YSQvT+it+TVj9LdMyZm78FtQPB5Xb0HgcTOf7PFarLIRCyOWoyO/u5Y+NPnsBaOavNXtk7RvolsQze9MboKuMPINCNw78FC60E//k4EfkEG24AL9igj98X9/4gTHBBGn1ydWBaEfxuryhN6aPM+PfkvrchTlnc7T+l9q9EuVPe3SYh0XcG8BlZX75fXH9Pup9EYbH34qse3f0sT9vO3KdF6C6OlYheQeEbh34NkjJuFzIBAIBAKBQCAQCAQCgUAgEAh8CAJx4PkQIsONQCAQCAQCgUAgEAgEAoFAIBBoEaADz+8qf6sNtIo3GxgkAN8ASQ+aGJw+CNhw4rtlcLeOzwnBQUAbxIw5SA7edxCEBzFjcLLCvI0i8N9//8WBZ6Pc3Tc7ktd9jLYmEZxujbHa3t0yuFvH6wh45H4Q0AYx4xHkNiY7CMKDmLEx8sLcjSAQB56NEPWUmZG8noJt6E7B6dD0TDButwzu1vEJQdEVGQS0QczowrT9hkEQHsSM7fMZHoyIQBx4RmTlVTZF8noVkuPoCU7H4eI5S3bL4G4dfy5Ocq9BQBvEjDlIDt53EIQHMWNwssK8jSIQB56NEjfJ7Ehek2DalFBwuim6HGN3y+BuHXeCYHLVIKANYsZk2LYnOAjCg5ixPf7C4i0gUB94LqfD8XxdyPKYSwDs9XI6HtLf8SSIX89aeRFhT1Iaf39//V6/v78BOMI0QtmlUvg7noR0qTtAJXkQnK7K4/V89DIiVR+ULTKpkRQKt8sgJqlLWRYup5y20r8Wgt/fX9Oa05tkt52Gbh0YEhf11G5D6D3zvTa4TjuG4yq4F56cZuiDNzPBgOvlfCpRSy41sQqiAxTr2eGxsIKZbAYNX/89szVska8dS5wCOW2PGW5vO2A0VRwOsE2cgcdrusLMuq9wKAriwHOfsCUkUjrJ2VjnP0VGzilXLaYtRJGkWsgM2TAVxV6pjZPXEh6EzscRyPzRxrHwTyqE/0Rfpjc4fRzc1/e4Xs5HWvWbdT6xh1PRkfRozSZuZlZqFGqQpiNNk4N62OeA59bNOM4Gz7+2gaGg2nTdSubRVwZtihnwVPR6ljVrPlgTNMDQ96Uh+mg2To7a+5qXkECieywsMW6lE82gprnIOf2BF3lEojlWEmdl2HO3Gw4YgunAJ/bf/OxpiRi+nk9nfpo1EWTL4J1OQ1EQB547bC3UjEHAM9xGEUuYhMGVYJXfKwvUyQu6RXF9BJA9oVUKJfdTSgtO1yenHfFyOp4uF+cTHmo44bMHR9KjtQyxlVmJ4aroXM9H3ZxotVuqNGzFcdeXpyrbwOhN7VayDLguaJPMMLRah55C6YFOZugH+uF0fKDbmqJAdJeFFewBM9Joc5Hz+mPMpHxyhheLnqXYx+ZZbZ7Z/ggL1ZIBVaJ1ql4x+LMQTR37Wf2LUBAHnqm0LSfHxGIagCcruTp9LOCFTqdXMrdOXsv5EJofQ0BzF3LKtcHpY2guKM2U6BDXM73FYymiVivp0Vp0bGRWkj/OA0XaoBzLi7fVgqwY5RJiQDUbcbx2Y+69CQwbNxXGRrIM+wbQ7plheDUOwSs4x/r9hTxDJKTUdee9ydR4Tu//2hA0QwsxZdj0aay+H05zlCNUR6sfJ2lLM6hjmAz5+kJNNJnD5r9+tK5GzwzLAbxCTy9l6hcgWvZ7nxApMwX+y4kDA+LJxd/nuuGO/dORuIauvpKlA6aPTxvqLvulsmBWHJI7B67UBsrVgvKCHAnw3+mSP84D+clAiWLnxbuRKKA1yPw/PL5xGCszyvVcmqHqg7pSzOXElud6SiDpdQfOd/SUOf2Z9MIQ9Hrtd4fByIx5Jb7ojdy8Uij7ZC1Pv+B0FO4sP2nTliZrZgitNJLmRmjN4htJg8nDM3+pUBYyDU3ykbcpCEQpWwiociOOO77MqrJAKH70lop9YdJK5kHfANo9MzhL5Z2jvPKZu8GXZtJEodq8YU5HZbjJ1TAY4ZFXQqpMKVJ30xmNhBjv0ESYPorN7ToaZNNq250ZYEq1RzUo3WZrElGlyN1ef62JhvFfP1hfo2cGo0u9slk1y7frsX8amZTkynLSkQop4AMkDAyfa+o2dsCQhUd+dSzf5J2eb7nigFSV0MVGLqPKzjxiUdKYPkTMs0ukM4kAIx1jmDvsjAsa1ctuhhqaJWGoORsHHoynN5QpGjSX8nfaj6cznXIo2KpAbsIpB285D0mv7EmdvN7gXwzpIpD2OhW9Zol2IiE4daFcthKmHw0kTyLbzG4kzQ2uD9vZ96d1qizR6eGhpimGHJZKrpIrIcCLZancaTqysZD2Gn66xlwvOL4BtNpgsgXNMDsYf0eUp4osYCkQLqfj+cITiK82TDigbK1goU+EoAqK16tujU02TchyNNqpq0NpiVTaOzYMBnt1ERFmA9op9+pRG32eGYxcA0sixLJcFArIFkcejmsFV35TluPiLv6Wa9bH+uUqA0gNFqwSzNOoUHxJXbVFS9Rg7+pxbaviVnUT42r53MCWaCuX+CpyKXRsbTqOyKFLhgJTK3kR+Z0GlJ1z3Bv0cxVcp2lmx3NHNVNL1GLv3HHjwAPYr14kgupdARtRyLMc2jsWhasVqJMXCEbxzQgwUzgtqa5d41gyGxycrkqcoQS4shmYTDKSuHZWLWbvuKovjw1mw87eFU0tCDKEJ7/T0LWBIQhRoULJk3wDaPfMgGkA3lS+qG9lL5u3suamHIsOR/7jD7xqXTKMO3R+l+dIX6w7HSGDgjAqtFGrLVqi4UiqNUwMeX2hJprMaReD149bafTMuHHgYdD4ytrkXgrckq+ZGz7myE5ZKevg3+G6M0rnhNxRgkkbFb4iYFAfISD3UrD4UHXDvlZyL752wlWaWTn9vFr+IR599VMxV6uK/INACY08XLqCfq1/UPMrKEiDx4FHOVi5RMHYO+3o9smGrL1rDaZ2mCZ18mo7RM16CFjy+I6vZIed1sWy4HQ9itqREH0q13+6F0BJWNBaWrcyK81CRd7xS97y2+lGwmDnRvJWHDeezL+xgYH66pb6nmTfANo9M3zaqZfOBkxmSf6SvvqWJsaRXkQoy1TdK8Pj1/r7KSuLtkEZhWxsaouWyAh7h6wtVK6JJgNgLV9o1EatZwbQWsPCYPbquzgmcjBk6EB8lrjw+9lROvwal0CG67tK5h14rFoejK91K+Pm+9k8P0tqSIdERHp+oFq1xCPS1a+lBsAFilbe3oFYDyh/gmLHYtzDmgUuASLHpFVk7xAIKceBR6BYtUDU6E8O5qGpjpcBJZhKbS09GslndL9X1lgnr1VdjMFqBLpUZoLlNbeUp1rOg9Ma0BXuYXqZ0XSCcnUlKbdKa5HczKxMPqb/RSf5kCIyu5Ve4RcP8y5WHxniZpfRoetmHEej55cBp7wF6U1tnPcy7BtAMwYXQ9AMZwdDUqabuaEORz7imBvek+VvE9Dz5/Q1B+oNu2wBA3daXImyGqfUCnYaIV1nzY/9ooxsFivDeNAFrogwqSdzSqQsMFpXpWcGUmHMghsoGtupHvvzwFSffna5V5E7WvxRmeEaG1hhukIMcD3KGiWLBgyNKnTCDVrDFuYrpV/dI+aPRABJOvGc5LceUrjwL0h05hF8nkauMi0AkTUG7yYBZeccewP6uephzdSB0UMkUNGkOescePQZJo/AZs691nNprr7t9k+xrEDzxM9UUr18R5hY5O9zQC0pOJ7zo1avPUMTgA8WIj5V8BMn/PDcFyRvgtOVOKVcin+w1uTEzgtGWmscSYfWZPqGGMQw9EKzfHc5LZ+cjvxVb5eh64YQYir/J6sruX60TDPD2cGUOSkhD99jpqa8XOXNq70x65sscGSHnW9lAHfovD7Skep06f3Acbas7GhwQeXvyvLRqwxEF2VKDIPWVxc1LfRZePWYjj41Izc6VPRY9usN8jBg8hK3mKkCWffw73DtWJmHGilgXHy6lpP90KMNwbSJBLwcuGrljB69rFl2j2kUPnv25G/MrKqLg6cxnc0AACAASURBVLdTRRmBxlx/ztYHHgjI1xfrufT6EUKjQSAAN3B8xE1wunUad8vgbh2fE7GDgDaIGXOQHLzvIAgPYsbgZIV5G0UgDjwbJW6S2ZG8JsG0KaHgdFN0OcbulsHdOu4EweSqQUAbxIzJsG1PcBCEBzFje/yFxVtAIA48W2DpWRsjeT2L3Lj9gtNxuZlm2W4Z3K3j0+LClxoEtEHM8DH6iNpBEB7EjI+gNJwYDoE48AxHyQsNiuT1QjAHURWcDkLE02bslsHdOv50qIzznb3gbg6JU/oOgvAgZkxBLGQCgUcRKAee/+IvEAgEAoFAIBAIBAKBQCAQCAQCgU9E4LDamX61gR499n2qfAD+ecwGp1vndLcM7tbxORE7CGiDmDEHycH7DoLwIGYMTlaYt1EE4pW2jRI3yexIXpNg2pRQcLopuhxjd8vgbh13gmBy1SCgDWLGZNi2JzgIwoOYsT3+wuItIBAHni2w9KyNkbyeRW7cfsHpuNxMs2y3DO7W8Wlx4UsNAtogZvgYfUTtIAgPYsZHUBpODIdAHHiGo+SFBkXyeiGYg6gKTgch4mkzdsvgbh1/OlTiRwvmQLetvoPMjkHM2BZ3Ye1WEIgDz1aYesbOSF7PoDZ2n+B0bH7uW7dbBnfr+P2Y6EsMAtogZvRx2nzLIAgPYsbm6QwHhkSgPvBcTofj+bqQqTGXANjr5XQ8pL/jSRC/nrXyIsKepDRq4Xo+Hg4n7fb7G4ArOquUXKaE1COQ40qCjW54UHtwCigtX6RJhRnR58Vj05fcFoPow4WXBTeemYnLKSc1/VfR21/oIn6S5BNUdVz9oqhA/Z5oaWxzzJAgOBwOsIBxGLzter2cTwjfTUOqYNVI9XqBZgIIcrkn/XhdPTs8Fh7X+nAPNoOGr/9uA+QP1WJVO5ZYADjbHr7mSbVDUTzJYhSKWYbbWUTm2XIceJ5Fbl6/lE5yZtb5T5Mz55SrFn+pWCRz0R85aYwDjw/OOrXAlJ49hd7EacnrIOly6oZHdoIXpHVc2vUo18v5SKu+rvM+Lx6bvmSCczMMkl/Fd4niXylhPPfCxAb3ZhzvufNgfS8G2rhKSb6B+h3R4tjWmkG0ljXp97cc1WDH+iBMffHr+XSefHrJamzE9VWnloce74JmIvbl/uLs6LFwx59XNKMZpG+ur05/QPL3N4W+5JkyoGbcuS4NRfFjzsQsW2aWmZ+lfig+HuMvHk4DXogzpQSa4U0eSNPeJAzsBtpS2jieTuloBPV18oKmKL4cASRHWJNCSe1pncRKor3J71hHwiAQnL6cuI7Cy+l4ulwM+i4vLpuuZB5oKwyiCwIROmsTlohoodKwFcfVgXkldB9m8Z24qsZcFzTHtmwPmAGusK1OFTfNuSKAc/T0+j6rHydBT/fD9YBwl4WHlT7eAcxInef66vXHxHE9H4/nM6yBz5Liu/qsNs9sf4SFaskAWPZpFKfqFYM/C9HUsZ/VvwgF8QnPVNqWk2NiMQ3Ak5VcTe+T0DPVag4Uq65nel3KKnDeQ1jOh9BsENDUhJSZWvjUzueUFXJ4lPt6QWKxuC6CgHJWq1de7s1QlUw6NsJgZXVx34/nGpt8j7JUsxHHfWdm1tZo0r3M+7oRx3oDaMa2Youa4bXyXsw6InfO63qp7ZxeBS3PgPRl7vTyHwnw3+mSP2gA+d/ytk/6BFbfCcfHR3l4eSvIefGuDtDs61TNWdouuuKyYzC89+p9bKUIsxkQIYWFFS6eGdWnWQIpvc0Irrj1iggYr8CX5suJPzIDPJ2woX1RCpSK96QGw4MH05G4hq6+kjZ4ch8wqRw7MiDNoK7BOm4fn9Zy0i35gVWUyjSuvOsld87oqQ2UqwVlNpAA/+1llsUnPBxP77lSzOXQ1o1TOtvI57z0lDn9mfSi1qaHJNf84bDJTXXy0i5RWgoBIlEXAiWXxoPse49TMc9q2PeuUUBZr1DDLyObhptsGsnt7PtTNjrzlwphgdR1GOJZcJFC7fauQ7cBw1S4UBcg35DDjW2NGdRqVpkkkdeuvM0vezEWBHX6yI4q03Y5fTOMRUlV+ngjf18M4svKpx0rG4GdMcVKFzSwuJMvOVfzhi/HNe0Jp2hmmeJ40au2yOjZFbotE0dBMMbUREMPI7fwjWcG+0pDZ7PKMQdsvFWP/ZP5JJwry0lHKqRQBsrhIYHQY4e6aTgBRMNQTBYe+QXNfCOh71iuOIAzFN2EGzZyGVUCXAgLi5LGHc+yOPBgSK1dphDGHUQ+2hxPZ9pDUU6oAtlfayR52OY6ea3t3G7Hk+83AHtw4IFakfSxsuFBMsGpj9RCtUAVjoC8gIjDJkpmDRthkAznJTo9PKQ0Bb5CPCMyXCbJaqOzEcfZg9dd2xiwQLpQl+HfAJolOduhZjjE5lCQ5SrTznJ8zXp4L2Zr005OtoMCPAub5+rSmgvXqzlA9LtAC6twqriJhpykmbjTOFe3tEQq7Z07riJcHNMjEhi1eNEzQ/2rHNGHrNZBrW86qHOkVZCAh7Y2fLK8yIn/lp16eBFrO0rTqhTXBkrY1A3FPL+ae2krl/iau7PXtjZmWdo+xYEHp8CqZYpHyJZm7BKrNmTtXZLn2IZFR/TUyUsaorA0AswU0CObHG7LNtg7tItamvAIThGixcvEgT6QUMaUF8tfe6eSxdiNMNh6YnYoZRdXY8OE2N65diOOswsvuhISTQxILkiDWLDs3RtAIwNqXtUMrxXcYev5mnZZhyP/8W+ASDOjTD+Cln8iRF9Qg+RZy+f3d470xVXqJub2u0ALj+lU8W8wTNbMe9CsU83UErWQVAsC25GuirCqEreM5KI3nhk3DjzsJl/ZNrmXArfka4aejzny8EQZ6SDW4b0zCpyocPiOEj1+2RPqKyiuDZR7KaCB5jm3NpBsDgnuxddOgEkz64hZ9t9/ceDhaFj3SsHYLoRsA7VSbNuQtXckm7Twh/LlKvmpTl6sPK4LIGC54Tu+0oCcOLHOplYwi4S88AhOAaTli0SD2XY0vHTZbCSLtVthUDcf8IgaveV4dlhwm7biuOPPs1W9GIATAql2oc5jvgE0MtrEvP1g2Wk2VektJarxHtUzkNrONeWKn9cALFbe3oEYImmFsIWHxI48vNhNFSgAZdRsI11btESK7B2Pb6410dSlZsF0WObGM0M2FK0j7H7tINd3PU9wItgUNmf6BQN9BxDGzc7aUTqMGFxAhuu7SpBuFBJfkgZt0RI12DsejK91q+isG7ADY1HqSFSqYpYRKhY9e8dImmv8aIGBY7UbokZ/2DMPC/EMr8bQzChRDrX0aESfhBWzZRKxG3Xy4vq4LoFAl6nMH7DXlWROvfAoJgenS3DX1QmTsuTXetrSMtnO0E9gMOWT/A1y9VEAgXimdYdDNyGZesrXahncvYXujRhIK7VsXsqzkBrqhNsbQBOKmTh74MnW6jTIz8thc0p7sZN8C71sSso29lJ+aZrG0C7wpD9Np9ICu9VGXnqnOBQou11wN8t+gTBX4TiTNCNYiAQqkp1ZBQIPmq410ajYCC5745mhROUtpqANNkLRCFU4iPFUn37cnGvqitzRIobKDDvYwArTdRiKycIeboivWk9JNGZZxgPRmzvL6k949OMC4UdJmFWq59IsZZvunGJZgeaJn6mketw+eLV5A1JtKZptRgC+bpR4TFH2Lz9AJF+G5fcmLNPKaSc8kjPB6UqcUo7Fv/IziFjFH8G1vH8Ig+iYJBsnnjV0EznOLoPqdxa6nRhw4orAcaFeG7SObY4ZEgTVYsX889RI9+qbLGw0Eu7z8k+Y0Tttx+MZQo13xT354/F06fyocdXFCUqnik5zNCa9gtfVXFJ62R/Br6/JN2/rZ8+GYAEhgcP/6Ozos8CyC17VjDxIhSJVAvfmZ5T8+lzb7iWTl1idKjAmnLDpseNYmc0fiWIXn67lFdJt0KT8Ang5cNXKObZ3PcvMgSdHyUL/1nNpoWFCLSMQgDMSn3MNTrfO5W4Z3K3jcyJ2ENAGMWMOkoP3HQThQcwYnKwwb6MI1K+0LepGzKVF4W2VB+AtJluvCU6DwY0iEKH7BHGDgDaIGU8AuJUugyA8iBlbYS3s3BYCceDZFl+PWRvJ6zG8tiAdnG6BpVs27pbB3Tp+KxrutQ0C2iBm3ENrw+2DIDyIGRsmMkwfGIE48AxMzmzTInnNhnA4BcHpcJQ8aNBuGdyt4w8GiBEfBLRBzDDQfNbNIAgPYsZncRvejIJAOfD8F3+BQCAQCAQCgUAgEAgEAoFAIBAIfCIC8aMFo5w+X25HPK15OaRvVxicvp2CmQbslsHdOj4nYAYBbRAz5iA5eN9BEB7EjMHJCvM2ikC80rZR4iaZHclrEkybEgpON0WXY+xuGdyt404QTK4aBLRBzJgM2/YEB0F4EDO2x19YvAUE4sCzBZaetTGS17PIjdsvOB2Xm2mW7ZbB3To+LS58qUFAG8QMH6OPqB0E4UHM+AhKw4nhEIgDz3CUvNCgSF4vBHMQVcHpIEQ8bcZuGdyt40+HivM/fs7RNaNvcDcDvEldB0F4EDMmQRZCgcCDCMSB50HANiUeyWtTdE0yNjidBNPAQrtlcLeOzwnGQUAbxIw5SA7edxCEBzFjcLLCvI0iUB14rufj4XA8X403l9PhcDhdTN1TNzGXALbr5XQ8pL/jSQC/nrVSAfckQdOv32ucp4No687LLpXC31FnmdQdoJLAi0m0aghRRsSE6PLizuViZkqpyuumGHT9cisNJyhxgbVkp6E7KYR+3cywfrRIfN9IO+2GgFw0MW7iobpJ3fPSR//i7Kokf39/r5fzqcTQQ4O0mkavwdnRY2EFH9CMIHoFwGOINRHwDjz2dJMWbFv1rIE4l57V8SH9Eqo5k1MxJ33KL7l01eIvFYtkLlYQqCj2SkIBeIXVm2+BSnqykLcIwn+iL9cFp29mKg1/vZyP9FBCt2QuL+5cLvanNma61G1lVrp+uZWGLMXol4QVvD2e1SeGECZ5zQwJ1lWjRQiDXJTJRTOIYfsMlPo9cuCBoDCx097QWEXzQ4O0mkavUYT7LKzgg5rxm6IyiF4B9BhiLQScA8/pdIJV6nI6HGnVn5zObliOc+mG2B6aCFb+XIfzG+T235RskoRJ89itwOT3yo0B+FCxhOwJrVLInKeJFpyOwNvldDxdLrhn93mpaZWJTZP4SOnUZs+tzErXL7cS2UIBrF//w4pq9HfcPhtCsNquGS1eLiqwoRlE8emEZ1nseBfnGxFys+9Dg9zUNGSjIIx+2oyzht1iRtmDBNFroB5jrISAd+C56IzLpVfNOpxLK/m3hWEYbgsz1+LDP2+p6PRKjgfgo/JP7OaNMXLKtcHpMLwxJcmgW7xki2XW0u31TO8F2U4b3fcbv5gcr9KrY/mdpiOCRA7BNhoctIz0ytHi5aJCHnKXxdBQ64e8kHWg93HhncasC0fh0KDJkt7mTp+o6jveNHsYOxykB2OSOafXA/Ohsfd6pQ48SkkQBpfrz0hXsFXMkIeuQfQKsMcQ6yDgHnjk44Uy9Wx2ed4wnEvPa/m0nppPMs5pgUivFHCqp6fM6c9bPuBA9Gt6rbxYfhoti/lDLOtOQNmnAXmt60VCcLoYLR3FDT/l9dJmrqX+KH09H9NWrcmeG0yD6JcA5VYmb8/8VUT4euJ+Q9fidGNqU5NmhoLzitHSGMpHjYo7m6XITuoJL54dz/C1G1CSXcpu5hWN3xel4w5/rAXKNCPaQaqnCNqDSumUlY9ZdFvGp7WxMUVieYACEw02w4qwmoFsBg3IkOWYpRpFupzFgujVmImBXoBA58CTo/lYspjG+7wRcS7N0/Q5vQlbzcP8zdXj6UynHFoCIP81L1YXGJxeuSUAHzVQhEqgF1YYWmvyIRciITh9A5uWnxu8ZPZ0Ll9OZQvYZM/NzUqbowoJbmXaI1FCS/ug9HRdk9sev8NDYD0SQvQtffsK5IrRYg3l3W6bdrSFbaWe5RMVKeV+LFGihi7aHSqleL2aowkI6yA5zPiAhNtwlMH6++OKAe8qMNG3WFjBNjbDIsY0Kr5aykaxBJgI3EEtF3dLNAMQ1zcg0Dvw5JRSFisnlp8yFefSUwo+rRMlDX4yVvtWEorNK/au7mKfwFSP5RzhqHojAkwlrgpUBxvEYh1L5tuYRKuS5lOSTLC80J3OZWC1yZ7bYtD6BSGpziIhLSi6L92W4+jVrDJB0s7qpNKiVUaxlWuCBlFbH9PQDBTL0a0mayl7U9/3Djz51bMjfeXtdAS8YCxUZSeVtmiJhicp+gpy/jM/P1KwHugiCIPLNQsrmCtmVEwF0SuAH0MsjUD/wAMj2+wCDQ8WcS492PUDxSk3+5sGcpZaaZW0GdzetaBwr9ISgLcQva/Gksd3fCW73IkWnL6PMp2HrQ3IC5VxLqd7fmmnXGXjv6FZWfuVUHArBR/crlXZa0OOizsvKBBe/oGHW+gq4fFG0NCOKhchdw3F6ScMsgOogrCr1JSqGg7bC/VDGYWsWm3REo1k715A5ZIqBGG02vq55PCsW8yoDjwJzCCaYYrrNhGIA897eKOkxt8GYAuorqwE8F4Dpby2lr4gkL/a6ffKOjF58ShxfRsCXSozwUp6cPo2juqBgQpz+lGy0k6gnsugptmzbGVWkuuNX24lQSBf10n+pl+gTBjB3nYrjgN5ryhOCCE/M6TBVwVNTIXwzhCgGXAIocYUEnLeFxXcBAGQVVXdWY5PfDZqQJg0i5CulfQSoDxuQBk58ZTv81zOJ/5uUTZkrH8VYYGwYWEFi9WMdFpF9sgu/ZVqsZIJRNFkKHDHhiM/eyWasYjrGxCIA88bQC+ftZsnwCmT40/K8I9Wp7e65UcLuDavkPn/JvV7kV+YvN7iZwxqEfCpkl81ku/tlkWcIkQ2kkVTcGohXeyuLO8yS3szlKai/eNdWTYtHQD0fxHezKx0/XIrcz47ntlJjHKuIyx2F7pTQ4i25vylvXrCrwyak4tSGKMZzUY2+alRLzqaX2BIqpruVJvdp3fPTpcz/LwACme9ZV+NePH3XZ3PdBTXGthky0D/IMKCoK4Ia1mKZiD4afwgei0aYpxlEKgOPMsMwlpxLnFdXBdEIABfENw3qQ5O3wT8y4bdLYO7dXxO6AwC2iBmzEFy8L6DIDyIGYOTFeZtFIE48GyUuElmR/KaBNOmhILTTdHlGLtbBnfruBMEk6sGAW0QMybDtj3BQRAexIzt8RcWbwGBOPBsgaVnbYzk9Sxy4/YLTsflZpplu2Vwt45PiwtfahDQBjHDx+gjagdBeBAzPoLScGI4BOLAMxwlLzQoktcLwRxEVXA6CBFPm7FbBnfr+NOhMs4Xn4K7OSRO6TsIwoOYMQWxkAkEHkWgHHj+i79AIBAIBAKBQCAQCAQCgUAgEAgEPhGBw2pn+tUGevTY96nyAfjnMRucbp3T3TK4W8fnROwgoA1ixhwkB+87CMKDmDE4WWHeRhGIV9o2StwksyN5TYJpU0LB6abocozdLYO7ddwJgslVg4A2iBmTYdue4CAID2LG9vgLi7eAQBx4tsDSszZG8noWuXH7BafjcjPNst0yuFvHp8WFLzUIaIOY4WP0EbWDIDyIGR9BaTgxHAJx4BmOkhcaFMnrhWAOoio4HYSIp83YLYO7dfzpUIkfLZgD3bb6DjI7BjFjW9yFtVtBIA48W2HqGTsjeT2D2th9gtOx+blv3W4Z3K3j92OiLzEIaIOY0cdp8y2DIDyIGZunMxwYEoH6wHM5HY7nq5h6PR/NvTQ8VYi5hLBdTsdD+jueFPHrudQeTxcRdiul9ff3csqK0r/Q7zcAB5TWKE7mVCg9INFgYnAKYLyx2GTAK3B84UwJdTKXP4FBz69CBgFzwGQjJCFCgga1RjrKGCFAHEJY907QJDFVeQm5S5FtqKdgMBUSDE7BTIzDnf3F9XI+FYweGsQZd/AqRLjHwgouoBlB9AqAxxBrIhAHnjXRhrEol+RMDjsHKqbz5jU3J3m3EjSlA4+/2mDyMj3iZgkEJnNKgvm5QiIaHzGwXZdTZwcRnDJEi1+vl/ORHkoAP8rcr8zL9MChmctUu/FZ6cZzRj0lLffAk1oUDcAuDjwJOy+ERgFNYhoXoGQ1ph3y4GDIp35+sDuTtHqo6khAVY7BVPHQIKBiI0VFuM/CCq6oGfIkFZh9iIMgegW+YoiHEIgDz0NwvUwYc4EkESn85lyTEo1baey4no+4rYA2TF5QHcVFEJjMKSzimemWvuB0EYoeUno5HU+XCz+DSF2RYtGFlTpbt8+g71fB4Xg6pUc2ggIX6l4Q25GOetN9ENA0emEBysQid2Tt6YTvfmBHDoTuFZ3tCjkNDw3i9B+8ShBGP+1SsYYHYkaJ1SB6DdRjjJUQcA88lyv/2eV+rk04l+bq+pz+lN/yrgBXAql1K433tLU68ptw73wdwli16xthj57zy5aPa+0qRrXwDC3jFpwOEj/MWTLHpQoNBemPYhD8+v2lz7ZOl/K5FnrflCu8Iv8n7NrZboB7I2hesiq2IXdZDGPC2iwvZB3ohV1+7VOcxFGk8rd0Sp+owjveIIyD9FJokjmnNzFzTsVXBVtTdPj3lwRhcBk+Rl7LQDFDDudB9FrYxziLI+AceOD7IKko+7XZxuBcmq3sExRQ2tZFARNLesJGyLuV1vec/GldIWFcTgNwi9QadxM4hXegftO7I3omYguDU0bizVcz/xIrZ/2aHT5dsLzzE/Ltz8raL0oyaUnIIXqLHoNdfIcnQXUrhJLAG0GzQ+O+237/ils0AqhneWiTlcDXbpr9Q44o3mbkZjru8FMfUCbLIEGD9Tq0bSGZdMrKx6xsTCpTom1MSYgP8g8v1mCznDlWNJHNoCEZMkUbOMh2BtErchNDzUbAOfBgVrCTb+5oOJfm6vqc/vK6tAW7JBu3su88p6gsEYD3kVq05TanaSnJv1hxPJ3pU1Re612jglMXlnUqzfxLW7XjOS3y6dEx5kqyR3i3xm2eQfBLvpqkuyDrLN9Ru8Un0lE+Bx/6IfRW0Eysy24384ncaThzDFDP8omKlHI/luCogG00VEHxeqVgk8CBsg7CjxO4m7ZoidrsHajijiNdGWEyWtyvWFjBXjaDhlLEmEZFVEvZKJYAE7U7VEpxt0QLAlFYH4E48KyPeTMi5w5MEJL23MpGBVfYtIPJiyXiugoCNzk1FrCkqcSb4BTRWLks85DGtVTZu2KXW/kBDBa/IBtZpypaSLw5xkc6uh1CbwcN2E2xrvtu84MTKJajQKNeSzki6nuzjYagya+eHemrYacj7PhhLFRlg09btES6Sepw5D/78yMw9hhFmR3gcs3CCpaKGRVTQfQK4McQSyMQB56lEXb127zMd3ylLpLR3UpQiu34TIZEMHlBlygugYAlgu/4SiMKpzg8CcDGIjVhp+AU0Vq9bOnBvQgffyxZ5c5Wmm5bmZXWhXxH/9Z/7aeTSaqt3orjy8aYiQXAeATQwJw6WeFS0riQfsJgzic8OLBNeDAWCtlUqi1aIhbt3bK8ztYuCKPV1s/ZY0xQIGZUB5589qKfMAiiJ8AYImMiEAee9/BCiaxsc+F1EUp1qRbq9CFPVcn/fU/ulF+z4f7FKUxe7/FzT6NO5lRotu9A0Zcjytd1g9NRAge4IpPSBiR9dSfNxjRZXd4/gEHXL+UlQVH+s7AqdMsP7qtsLkU66oUQRcsIoEm041qTyEPu4BBCbcl4+TxPVHBT/TSH5lBdR534hKwTq6DFwkYIVrr84ZC7Dc9dyvd5LudTfhs1OTTcP4qwQNiwsILRaoY9eQbRK4AfQyyNQBx4lka4px9/Pka//Cw/cCNf4UyJhn+DjReFtPE6nnm7Af8/YPkSYR4Vk1fPjqh/HQKTOXUF8wYzOH0dH7M00bYD/8rcQ+r4/wbGOpnLWLnRWYkuiF8MKh54NHSpZP8kZ8UnPAU6hDWF0ECguQtQ9bJAc2JJU0V5Fh36gzwcNHRtuufK9Pts9HujlzOciFA46y3nH1jz4GuQ+YQDoynWB36aBK0jFXGxFgRxG7COsWgGgp9GD6LXISFGWQqB+sCz1DhJL86lRQcK5RmBAPzzIiE43Tqnu2Vwt47PidhBQBvEjDlIDt53EIQHMWNwssK8jSIQB56NEjfJ7Ehek2DalFBwuim6HGN3y+BuHXeCYHLVIKANYsZk2LYnOAjCg5ixPf7C4i0gEAeeLbD0rI2RvJ5Fbtx+wem43EyzbLcM7tbxaXHhSw0C2iBm+Bh9RO0gCA9ixkdQGk4Mh0AceIaj5IUGRfJ6IZiDqApOByHiaTN2y+BuHX86VKovz8zRM7NvcDcTwLvdB0F4EDPuwhUCgcATCJQDz3/xFwgEAoFAIBAIBAKBQCAQCAQCgcAnInBY7Uy/2kBPnPw+sksA/nm0Bqdb53S3DO7W8TkROwhog5gxB8nB+w6C8CBmDE5WmLdRBOKVto0SN8nsSF6TYNqUUHC6KbocY3fL4G4dd4JgctUgoA1ixmTYtic4CMKDmLE9/sLiLSAQB54tsPSsjZG8nkVu3H7B6bjcTLNstwzu1vFpceFLDQLaIGb4GH1E7SAID2LGR1AaTgyHQBx4hqPkhQZF8nohmIOoCk4HIeJpM3bL4G4dfzpU4kcL5kC3rb6DzI5BzNgWd2HtVhCIA89WmHrGzkhez6A2dp/gdGx+7lu3WwZ36/j9mOhLDALaIGb0cdp8yyAID2LG5ukMB4ZEoDrwXM/Hw+F4vhpbL6fD4XC6mLqnbmIuIWyX0/GQ/o4nBfx6LrVHANytZFWJnayo/Kv8BeCM0krXyZwKpQckGq28gq4LTMjgFFFavEwZUSfU769LnFv5+yEMTkLA8ACRq5ltnA8rjK3L3mAIKBQSLjj3BwKtZpww4rSTdghmuWk3DFMwJT2wxP3SzLIzVV1q8AAACd1JREFUrd52tD2mjNORqVZNnOFtj+vlfCop+KVG2JEYYa6t8eD6ha9sBg1f/92GyTesRax2bG9E+zi5tZIpDocDbhNd4RUrYUbcH3WoueYdeOzppgS+TU73vfQkeC55bXuroyjIWTQBnOGVVHDNzQkUt7IHF/SDVaonHfUvRWAypySYF49EtLOOqES9EYhJ9FLObim7Xs5HWvWVH6UFiHMrf7V2wwxORMCASI6XzJaL0rq30C2ZnZ5WSBKHIiZ5AI02mrDargxay3imrzaDHAIrheOpBae/jRa6w6kHCE4d44bc5QSz+oZcagLDHLPv9Z7ajgj3WJiqa4YcmkFq5nrs9Ac8f39TotwV0VPJSTOAT9rl8dmcKdcb93o+nfGRak8O6i2D0OAVh5przoHndMJkQNbSqv8KpOu55KGzkzoMAkkJUihpIGHuVvZQQrVx4OmhtFA9gi+sSQE4tekCu7FlXl1pi0nEIC19vZyOp8sFnzu7xLmVtIzrOclauh0GJyJg3MOAr1DYjuPGo6dvMAYIlhQQiI+ETi0Jq+26oLWMF+9rM9CNZwDy+gsceZ99PJ9hEiFEzwxo+zyrzTPban76DhDusvC08ukdwYzUaa7HXv99Ez2NC8KtWkGcqmm6bks9Oxdua9XWZ/V7kaNanyx5B56LjpRLGJ9PjpO61XNpjq7P6athjJEhtW5lx3uUJZEAvAPU0tXCntnyca2dT1QLGxwyzakSi4NTgWKNAnOWxnKJcys/iMH7CFgeMh7pY40qH+05dCUgEBMDbUGxrnsDaLUJZFlthvij5MP7N0d5MJ2yGb+8Te/vlrdznf7pYX/Z45Xmy4lTI8wyfE+Q1fGrpukDWX1FPKk5p7cFbYpFFhoPKiWYw9FsMMnk7GZQ12AdtZQ8hKsdb9NngQrPDIsdY50+gRNCg+jf7kvMhSZ3gjTRkoWpumG/VKYu8hUTuXPCLLVB/KsF5QU5EuC/0yVvPECeqb47I0Sx8+LdUHPNPfBI5imm2pn9/CSr59Lzmj6kJwFLL2fmtE3BpzFesHcrffetKMkE4D5SS9ZO4JRW0PLWD+VI8+ZGMi21n/XrXPr6f3C6JHeObjupXOK8yg9icAICFW70qVj648xW2necjgREKSRM7F6AgkaXg/eBZm3MdtTckQzug3Ofcv4ABbfqsX8aRZWWk45USMG8HCjw0X6LtalofnKU1lf4EiQDn0M0x2lKsD0lzxx4YFCyh49xYnAhFy8ewrodQMlFy54ZDC0NnN0JogsUk4m+hRsoYW4xirkuv/7H55Jy4mHBrD/FOe0pcuRQpSpnUdKXPkTMs0Kkm/kydUakIZKVeS1Ug/NQMNXEMH/CLj7XOgeeHNbHktM8L6xP0+7quTSt16dLyavcELL5/ScKWrfShQTDuQgE4C5Sy1fe5jTnm7zUns60PcQVpbz7djjmF2vTcxtY+ILT5emDEez8SwtFSxx/4fwobKa962cwOAkBRQzEZRaU1t2GLkVDmcIAjyZ5RS89JTYvkL8BNGtjNq42g2Qga1W35ZFO+1m1bCXqDnkUrpU92PV8TMDJRz0skeVFThC8XnW71w4vYm1HaaKdrFHyzCZMoblnsIzrIQx5X+QWLnhmqDdpPwK3QXT7SUsiqA4wGwZydOmGaC2fWefpo61c4qvIpdCxtYmssihBFIGplbwKTZsRfkYD/apQStM0s+O5m5qpJWqxd+64vQNPZqTMNzuamPpwoZ5LDyv40A7MEzJEdZzqJe1JpQMEK8GmABzRWLXMdLicGktYEiptlb0LTgGo5YsEvsw/O5zlpbSVSttm7zbGIBk/HQHrqr3bmOOW7afvCAM4GzyaEN4Amsd4bYZlttpq6NajElO5uqHAm9HhY45soBQ02ovQt4rzn3w4nl/nOR5Pp9PpqPHaGSXtbtqY7iiZd+DpGNyGk4dwa2Pb78U1nhlwwqkR5Xu+sjVyLwVuyde9EV3DIPdSsPhQdcO+VnIvvqazTDsvpJmV08+r5R/i0fc+dXLp9CzyD84Ima88XLqCfq1/ULM9gqhbWiLVE+Za/8CjtiU9EPPQ8lixnkuP9f4kacsT3/GVPBWG3coWC5HHpgAc0Vi4jET5K77LEXVrMpvJEVZxcLowj1a9S08ScVuk8nMYFJcsMPJ2i31biKR1rbB3OwxdAgDwqJ5CckKwMNm7N4BGBtQpqTbDGtnslHzPOssaBlaaNxhD9NnOuXzOU8En/awxMPVsg8i7Bx4rC0poLWY4UIh9zGq1RUvUYu/AhLroIczD1rIL3ntm6IRu3GEQaje5vunApu+M6IfxoQ4V/aYqfeapWrXEANPVr6UGiGkoWnl7B2K9GTH5wPOwZgmn5J1219JNdxWTOPAoFmuWiMASzvDiB9GXaqEuBa1Xab4eZgOCPamTF9fHdQkEJnMqNNsXWOi5Jj93SXzmN8tBLVkdnC7BXVcncJXXj2bWggRO249hEPzrIJCqOXQhXBGOPYYuIcff1dMAEzwBnrFAEwvV6CbtkAzsg3WVoj6gAIpNPfbnoUje/Ld/dQXd8zfl6Xk1vfib67KKhGqZpKaBR0hX3L2Vhq6S3vaOOshA8MMIqEg2nfmxABtsbCk3dWJH9Z78QnWeGUiUMQtuoBhE/7ZEP4pP+byCQ739WWo68ZzkRz1KqFdhRoMqefDBqT5QN4f/Rl56m2nVmxFPHXgmaUb08odD2S1rsA+CmShx4DFwrHiTaaPkzlsFGhx+7UJeDvUq8wopIk7+Jm118lrRvV0ONZlTV9ByiiLCc3C6XlxRLsW/lGGRFfkpCbey+s0esHszs3I6AiZ0O3DsLh0RKPav7D28JD8GaC7jKXTroK12GiQjblU/vODX51o+MOj0SCZgdarQXRvOK10687fo6D230wV+zNqxMo/kLpgdJbi9K04W+/i7e2SHfhWzGVS5VYPVYS4pwsljiBx0nqUXu6oZeYjGmyCaDxENNHeIdidCowSZhR5t6KT8ArHhjF4r5wint0LPsqsgqfyQoSdfTSucEVUXZ2I5VXTKojGbCYuaF5lr1YEHwX59uZ5Lrx8hNBoEAnADx0fcBKdbp3G3DO7W8TkROwhog5gxB8nB+w6C8CBmDE5WmLdRBOLAs1HiJpkdyWsSTJsSCk43RZdj7G4Z3K3jThBMrhoEtEHMmAzb9gQHQXgQM7bHX1i8BQTiwLMFlp61MZLXs8iN2y84HZebaZbtlsHdOj4tLnypQUAbxAwfo4+oHQThQcz4CErDieEQiAPPcJS80KBIXi8EcxBVwekgRDxtxm4Z3K3jT4fKON/ZC+7mkDil7yAID2LGFMRCJhB4FIFy4Pkv/gKBQCAQCAQCgUAgEAgEAoFAIBD4RAT+BzIw6uGAHSZdAAAAAElFTkSuQmCC)\n",
        "\n",
        "\n"
      ],
      "metadata": {
        "id": "pVoM_BudJdpz"
      }
    }
  ]
}